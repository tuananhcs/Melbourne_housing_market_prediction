{
  "nbformat": 4,
  "nbformat_minor": 0,
  "metadata": {
    "colab": {
      "name": "melbourne-housing-market-eda-and-regression.ipynb",
      "provenance": [],
      "collapsed_sections": []
    },
    "kernelspec": {
      "display_name": "Python 3 (ipykernel)",
      "language": "python",
      "name": "python3"
    },
    "language_info": {
      "codemirror_mode": {
        "name": "ipython",
        "version": 3
      },
      "file_extension": ".py",
      "mimetype": "text/x-python",
      "name": "python",
      "nbconvert_exporter": "python",
      "pygments_lexer": "ipython3",
      "version": "3.9.7"
    }
  },
  "cells": [
    {
      "cell_type": "markdown",
      "metadata": {
        "id": "AageVooXtDeh"
      },
      "source": [
        "# **CONTEXT**\n",
        "The objective of this project is to apply exploratory analysis and regression techniques to identify which features affect home prices the most in the Melbourne Housing Market."
      ]
    },
    {
      "cell_type": "markdown",
      "metadata": {
        "id": "VXa6cQpOtDek"
      },
      "source": [
        "# **DATA PRE-PREPROCESSING**\n",
        "The first step is to load the data and gain a better understanding of the information each column contains.  "
      ]
    },
    {
      "cell_type": "code",
      "metadata": {
        "collapsed": true,
        "id": "jSJfTkNEtDel"
      },
      "source": [
        "# Import libraries\n",
        "import numpy as np # linear algebra\n",
        "import pandas as pd # data processing, CSV file I/O (e.g. pd.read_csv)\n",
        "import seaborn as sns\n",
        "import sklearn \n",
        "import matplotlib.pyplot as plt\n",
        "%matplotlib inline"
      ],
      "execution_count": 882,
      "outputs": []
    },
    {
      "cell_type": "code",
      "metadata": {
        "colab": {
          "base_uri": "https://localhost:8080/"
        },
        "id": "oDTloN-5vQSJ",
        "outputId": "02dcc9ac-1f0a-4726-aff5-8d1155d0e271"
      },
      "source": [
        "from google.colab import drive\n",
        "drive.mount('/content/drive')"
      ],
      "execution_count": 883,
      "outputs": [
        {
          "output_type": "stream",
          "name": "stdout",
          "text": [
            "Drive already mounted at /content/drive; to attempt to forcibly remount, call drive.mount(\"/content/drive\", force_remount=True).\n"
          ]
        }
      ]
    },
    {
      "cell_type": "code",
      "metadata": {
        "id": "i9dUxtwNtDem"
      },
      "source": [
        "# Read data\n",
        "dataset = pd.read_csv('/content/drive/My Drive/Melbourne_housing_extra_data-18-08-2017.csv')"
      ],
      "execution_count": 884,
      "outputs": []
    },
    {
      "cell_type": "code",
      "metadata": {
        "colab": {
          "base_uri": "https://localhost:8080/"
        },
        "id": "QU-Az55q1wKn",
        "outputId": "0f0670de-621f-4561-f4aa-117868d82707"
      },
      "source": [
        "!ls"
      ],
      "execution_count": 885,
      "outputs": [
        {
          "output_type": "stream",
          "name": "stdout",
          "text": [
            "drive  sample_data\n"
          ]
        }
      ]
    },
    {
      "cell_type": "code",
      "metadata": {
        "colab": {
          "base_uri": "https://localhost:8080/",
          "height": 343
        },
        "id": "zyp-2_53tDen",
        "outputId": "8013a447-8be5-4f5f-8643-f335c99bb054"
      },
      "source": [
        "# Number of rows and columns\n",
        "print(dataset.shape)\n",
        "\n",
        "# View first few records\n",
        "dataset.head()"
      ],
      "execution_count": 886,
      "outputs": [
        {
          "output_type": "stream",
          "name": "stdout",
          "text": [
            "(19741, 21)\n"
          ]
        },
        {
          "output_type": "execute_result",
          "data": {
            "text/html": [
              "<div>\n",
              "<style scoped>\n",
              "    .dataframe tbody tr th:only-of-type {\n",
              "        vertical-align: middle;\n",
              "    }\n",
              "\n",
              "    .dataframe tbody tr th {\n",
              "        vertical-align: top;\n",
              "    }\n",
              "\n",
              "    .dataframe thead th {\n",
              "        text-align: right;\n",
              "    }\n",
              "</style>\n",
              "<table border=\"1\" class=\"dataframe\">\n",
              "  <thead>\n",
              "    <tr style=\"text-align: right;\">\n",
              "      <th></th>\n",
              "      <th>Suburb</th>\n",
              "      <th>Address</th>\n",
              "      <th>Rooms</th>\n",
              "      <th>Type</th>\n",
              "      <th>Price</th>\n",
              "      <th>Method</th>\n",
              "      <th>SellerG</th>\n",
              "      <th>Date</th>\n",
              "      <th>Distance</th>\n",
              "      <th>Postcode</th>\n",
              "      <th>Bedroom2</th>\n",
              "      <th>Bathroom</th>\n",
              "      <th>Car</th>\n",
              "      <th>Landsize</th>\n",
              "      <th>BuildingArea</th>\n",
              "      <th>YearBuilt</th>\n",
              "      <th>CouncilArea</th>\n",
              "      <th>Lattitude</th>\n",
              "      <th>Longtitude</th>\n",
              "      <th>Regionname</th>\n",
              "      <th>Propertycount</th>\n",
              "    </tr>\n",
              "  </thead>\n",
              "  <tbody>\n",
              "    <tr>\n",
              "      <th>0</th>\n",
              "      <td>Abbotsford</td>\n",
              "      <td>68 Studley St</td>\n",
              "      <td>2</td>\n",
              "      <td>h</td>\n",
              "      <td>NaN</td>\n",
              "      <td>SS</td>\n",
              "      <td>Jellis</td>\n",
              "      <td>3/09/2016</td>\n",
              "      <td>2.5</td>\n",
              "      <td>3067.0</td>\n",
              "      <td>2.0</td>\n",
              "      <td>1.0</td>\n",
              "      <td>1.0</td>\n",
              "      <td>126.0</td>\n",
              "      <td>NaN</td>\n",
              "      <td>NaN</td>\n",
              "      <td>Yarra</td>\n",
              "      <td>-37.8014</td>\n",
              "      <td>144.9958</td>\n",
              "      <td>Northern Metropolitan</td>\n",
              "      <td>4019.0</td>\n",
              "    </tr>\n",
              "    <tr>\n",
              "      <th>1</th>\n",
              "      <td>Abbotsford</td>\n",
              "      <td>85 Turner St</td>\n",
              "      <td>2</td>\n",
              "      <td>h</td>\n",
              "      <td>1480000.0</td>\n",
              "      <td>S</td>\n",
              "      <td>Biggin</td>\n",
              "      <td>3/12/2016</td>\n",
              "      <td>2.5</td>\n",
              "      <td>3067.0</td>\n",
              "      <td>2.0</td>\n",
              "      <td>1.0</td>\n",
              "      <td>1.0</td>\n",
              "      <td>202.0</td>\n",
              "      <td>NaN</td>\n",
              "      <td>NaN</td>\n",
              "      <td>Yarra</td>\n",
              "      <td>-37.7996</td>\n",
              "      <td>144.9984</td>\n",
              "      <td>Northern Metropolitan</td>\n",
              "      <td>4019.0</td>\n",
              "    </tr>\n",
              "    <tr>\n",
              "      <th>2</th>\n",
              "      <td>Abbotsford</td>\n",
              "      <td>25 Bloomburg St</td>\n",
              "      <td>2</td>\n",
              "      <td>h</td>\n",
              "      <td>1035000.0</td>\n",
              "      <td>S</td>\n",
              "      <td>Biggin</td>\n",
              "      <td>4/02/2016</td>\n",
              "      <td>2.5</td>\n",
              "      <td>3067.0</td>\n",
              "      <td>2.0</td>\n",
              "      <td>1.0</td>\n",
              "      <td>0.0</td>\n",
              "      <td>156.0</td>\n",
              "      <td>79.0</td>\n",
              "      <td>1900.0</td>\n",
              "      <td>Yarra</td>\n",
              "      <td>-37.8079</td>\n",
              "      <td>144.9934</td>\n",
              "      <td>Northern Metropolitan</td>\n",
              "      <td>4019.0</td>\n",
              "    </tr>\n",
              "    <tr>\n",
              "      <th>3</th>\n",
              "      <td>Abbotsford</td>\n",
              "      <td>18/659 Victoria St</td>\n",
              "      <td>3</td>\n",
              "      <td>u</td>\n",
              "      <td>NaN</td>\n",
              "      <td>VB</td>\n",
              "      <td>Rounds</td>\n",
              "      <td>4/02/2016</td>\n",
              "      <td>2.5</td>\n",
              "      <td>3067.0</td>\n",
              "      <td>3.0</td>\n",
              "      <td>2.0</td>\n",
              "      <td>1.0</td>\n",
              "      <td>0.0</td>\n",
              "      <td>NaN</td>\n",
              "      <td>NaN</td>\n",
              "      <td>Yarra</td>\n",
              "      <td>-37.8114</td>\n",
              "      <td>145.0116</td>\n",
              "      <td>Northern Metropolitan</td>\n",
              "      <td>4019.0</td>\n",
              "    </tr>\n",
              "    <tr>\n",
              "      <th>4</th>\n",
              "      <td>Abbotsford</td>\n",
              "      <td>5 Charles St</td>\n",
              "      <td>3</td>\n",
              "      <td>h</td>\n",
              "      <td>1465000.0</td>\n",
              "      <td>SP</td>\n",
              "      <td>Biggin</td>\n",
              "      <td>4/03/2017</td>\n",
              "      <td>2.5</td>\n",
              "      <td>3067.0</td>\n",
              "      <td>3.0</td>\n",
              "      <td>2.0</td>\n",
              "      <td>0.0</td>\n",
              "      <td>134.0</td>\n",
              "      <td>150.0</td>\n",
              "      <td>1900.0</td>\n",
              "      <td>Yarra</td>\n",
              "      <td>-37.8093</td>\n",
              "      <td>144.9944</td>\n",
              "      <td>Northern Metropolitan</td>\n",
              "      <td>4019.0</td>\n",
              "    </tr>\n",
              "  </tbody>\n",
              "</table>\n",
              "</div>"
            ],
            "text/plain": [
              "       Suburb             Address  ...             Regionname Propertycount\n",
              "0  Abbotsford       68 Studley St  ...  Northern Metropolitan        4019.0\n",
              "1  Abbotsford        85 Turner St  ...  Northern Metropolitan        4019.0\n",
              "2  Abbotsford     25 Bloomburg St  ...  Northern Metropolitan        4019.0\n",
              "3  Abbotsford  18/659 Victoria St  ...  Northern Metropolitan        4019.0\n",
              "4  Abbotsford        5 Charles St  ...  Northern Metropolitan        4019.0\n",
              "\n",
              "[5 rows x 21 columns]"
            ]
          },
          "metadata": {},
          "execution_count": 886
        }
      ]
    },
    {
      "cell_type": "code",
      "metadata": {
        "colab": {
          "base_uri": "https://localhost:8080/"
        },
        "id": "n3haVKq0tDeo",
        "outputId": "2bfab7f8-9676-481b-8ef4-dac1aca1a55e"
      },
      "source": [
        "# View data types\n",
        "dataset.info()"
      ],
      "execution_count": 887,
      "outputs": [
        {
          "output_type": "stream",
          "name": "stdout",
          "text": [
            "<class 'pandas.core.frame.DataFrame'>\n",
            "RangeIndex: 19741 entries, 0 to 19740\n",
            "Data columns (total 21 columns):\n",
            " #   Column         Non-Null Count  Dtype  \n",
            "---  ------         --------------  -----  \n",
            " 0   Suburb         19741 non-null  object \n",
            " 1   Address        19741 non-null  object \n",
            " 2   Rooms          19741 non-null  int64  \n",
            " 3   Type           19741 non-null  object \n",
            " 4   Price          15397 non-null  float64\n",
            " 5   Method         19741 non-null  object \n",
            " 6   SellerG        19741 non-null  object \n",
            " 7   Date           19741 non-null  object \n",
            " 8   Distance       19740 non-null  float64\n",
            " 9   Postcode       19740 non-null  float64\n",
            " 10  Bedroom2       15686 non-null  float64\n",
            " 11  Bathroom       15686 non-null  float64\n",
            " 12  Car            15686 non-null  float64\n",
            " 13  Landsize       15659 non-null  float64\n",
            " 14  BuildingArea   8382 non-null   float64\n",
            " 15  YearBuilt      9649 non-null   float64\n",
            " 16  CouncilArea    15656 non-null  object \n",
            " 17  Lattitude      15804 non-null  float64\n",
            " 18  Longtitude     15804 non-null  float64\n",
            " 19  Regionname     19740 non-null  object \n",
            " 20  Propertycount  19740 non-null  float64\n",
            "dtypes: float64(12), int64(1), object(8)\n",
            "memory usage: 3.2+ MB\n"
          ]
        }
      ]
    },
    {
      "cell_type": "code",
      "metadata": {
        "colab": {
          "base_uri": "https://localhost:8080/"
        },
        "id": "V-e6MC5AtDep",
        "outputId": "a9898246-555a-4d59-ee0d-bfd840bf6c5d"
      },
      "source": [
        "# Identify object columns\n",
        "print(dataset.select_dtypes(['object']).columns)"
      ],
      "execution_count": 888,
      "outputs": [
        {
          "output_type": "stream",
          "name": "stdout",
          "text": [
            "Index(['Suburb', 'Address', 'Type', 'Method', 'SellerG', 'Date', 'CouncilArea',\n",
            "       'Regionname'],\n",
            "      dtype='object')\n"
          ]
        }
      ]
    },
    {
      "cell_type": "code",
      "metadata": {
        "collapsed": true,
        "id": "kOTeP2A4tDeq"
      },
      "source": [
        "# Convert objects to categorical variables\n",
        "obj_cats = ['Suburb', 'Address', 'Type', 'Method', 'SellerG', 'CouncilArea','Regionname']\n",
        "\n",
        "for colname in obj_cats:\n",
        "    dataset[colname] = dataset[colname].astype('category')  "
      ],
      "execution_count": 889,
      "outputs": []
    },
    {
      "cell_type": "code",
      "metadata": {
        "collapsed": true,
        "id": "TEr7eyE5tDeq"
      },
      "source": [
        "# Convert to date object\n",
        "dataset['Date'] = pd.to_datetime(dataset['Date'])"
      ],
      "execution_count": 890,
      "outputs": []
    },
    {
      "cell_type": "code",
      "metadata": {
        "colab": {
          "base_uri": "https://localhost:8080/",
          "height": 451
        },
        "id": "rhUsG8QUtDer",
        "outputId": "05d89529-bfca-4b9d-a6cd-5eb229fdf18d"
      },
      "source": [
        "dataset.describe().transpose()"
      ],
      "execution_count": 891,
      "outputs": [
        {
          "output_type": "execute_result",
          "data": {
            "text/html": [
              "<div>\n",
              "<style scoped>\n",
              "    .dataframe tbody tr th:only-of-type {\n",
              "        vertical-align: middle;\n",
              "    }\n",
              "\n",
              "    .dataframe tbody tr th {\n",
              "        vertical-align: top;\n",
              "    }\n",
              "\n",
              "    .dataframe thead th {\n",
              "        text-align: right;\n",
              "    }\n",
              "</style>\n",
              "<table border=\"1\" class=\"dataframe\">\n",
              "  <thead>\n",
              "    <tr style=\"text-align: right;\">\n",
              "      <th></th>\n",
              "      <th>count</th>\n",
              "      <th>mean</th>\n",
              "      <th>std</th>\n",
              "      <th>min</th>\n",
              "      <th>25%</th>\n",
              "      <th>50%</th>\n",
              "      <th>75%</th>\n",
              "      <th>max</th>\n",
              "    </tr>\n",
              "  </thead>\n",
              "  <tbody>\n",
              "    <tr>\n",
              "      <th>Rooms</th>\n",
              "      <td>19741.0</td>\n",
              "      <td>2.947115e+00</td>\n",
              "      <td>0.981046</td>\n",
              "      <td>1.00000</td>\n",
              "      <td>2.000000</td>\n",
              "      <td>3.0000</td>\n",
              "      <td>4.000000e+00</td>\n",
              "      <td>1.200000e+01</td>\n",
              "    </tr>\n",
              "    <tr>\n",
              "      <th>Price</th>\n",
              "      <td>15397.0</td>\n",
              "      <td>1.054929e+06</td>\n",
              "      <td>645244.681529</td>\n",
              "      <td>85000.00000</td>\n",
              "      <td>630000.000000</td>\n",
              "      <td>880000.0000</td>\n",
              "      <td>1.301000e+06</td>\n",
              "      <td>9.000000e+06</td>\n",
              "    </tr>\n",
              "    <tr>\n",
              "      <th>Distance</th>\n",
              "      <td>19740.0</td>\n",
              "      <td>9.862660e+00</td>\n",
              "      <td>5.553402</td>\n",
              "      <td>0.00000</td>\n",
              "      <td>6.100000</td>\n",
              "      <td>9.2000</td>\n",
              "      <td>1.260000e+01</td>\n",
              "      <td>4.740000e+01</td>\n",
              "    </tr>\n",
              "    <tr>\n",
              "      <th>Postcode</th>\n",
              "      <td>19740.0</td>\n",
              "      <td>3.106525e+03</td>\n",
              "      <td>88.413069</td>\n",
              "      <td>3000.00000</td>\n",
              "      <td>3046.000000</td>\n",
              "      <td>3101.0000</td>\n",
              "      <td>3.147000e+03</td>\n",
              "      <td>3.978000e+03</td>\n",
              "    </tr>\n",
              "    <tr>\n",
              "      <th>Bedroom2</th>\n",
              "      <td>15686.0</td>\n",
              "      <td>2.908262e+00</td>\n",
              "      <td>1.006038</td>\n",
              "      <td>0.00000</td>\n",
              "      <td>2.000000</td>\n",
              "      <td>3.0000</td>\n",
              "      <td>3.000000e+00</td>\n",
              "      <td>3.000000e+01</td>\n",
              "    </tr>\n",
              "    <tr>\n",
              "      <th>Bathroom</th>\n",
              "      <td>15686.0</td>\n",
              "      <td>1.551320e+00</td>\n",
              "      <td>0.713287</td>\n",
              "      <td>0.00000</td>\n",
              "      <td>1.000000</td>\n",
              "      <td>1.0000</td>\n",
              "      <td>2.000000e+00</td>\n",
              "      <td>1.200000e+01</td>\n",
              "    </tr>\n",
              "    <tr>\n",
              "      <th>Car</th>\n",
              "      <td>15686.0</td>\n",
              "      <td>1.583641e+00</td>\n",
              "      <td>0.972224</td>\n",
              "      <td>0.00000</td>\n",
              "      <td>1.000000</td>\n",
              "      <td>2.0000</td>\n",
              "      <td>2.000000e+00</td>\n",
              "      <td>2.600000e+01</td>\n",
              "    </tr>\n",
              "    <tr>\n",
              "      <th>Landsize</th>\n",
              "      <td>15659.0</td>\n",
              "      <td>5.381542e+02</td>\n",
              "      <td>3709.919527</td>\n",
              "      <td>0.00000</td>\n",
              "      <td>165.000000</td>\n",
              "      <td>410.0000</td>\n",
              "      <td>6.500000e+02</td>\n",
              "      <td>4.330140e+05</td>\n",
              "    </tr>\n",
              "    <tr>\n",
              "      <th>BuildingArea</th>\n",
              "      <td>8382.0</td>\n",
              "      <td>1.488852e+02</td>\n",
              "      <td>139.087299</td>\n",
              "      <td>0.00000</td>\n",
              "      <td>93.000000</td>\n",
              "      <td>127.0000</td>\n",
              "      <td>1.780000e+02</td>\n",
              "      <td>6.791000e+03</td>\n",
              "    </tr>\n",
              "    <tr>\n",
              "      <th>YearBuilt</th>\n",
              "      <td>9649.0</td>\n",
              "      <td>1.963394e+03</td>\n",
              "      <td>38.021476</td>\n",
              "      <td>1196.00000</td>\n",
              "      <td>1940.000000</td>\n",
              "      <td>1970.0000</td>\n",
              "      <td>1.999000e+03</td>\n",
              "      <td>2.106000e+03</td>\n",
              "    </tr>\n",
              "    <tr>\n",
              "      <th>Lattitude</th>\n",
              "      <td>15804.0</td>\n",
              "      <td>-3.781181e+01</td>\n",
              "      <td>0.074268</td>\n",
              "      <td>-38.18418</td>\n",
              "      <td>-37.857202</td>\n",
              "      <td>-37.8089</td>\n",
              "      <td>-3.776110e+01</td>\n",
              "      <td>-3.741381e+01</td>\n",
              "    </tr>\n",
              "    <tr>\n",
              "      <th>Longtitude</th>\n",
              "      <td>15804.0</td>\n",
              "      <td>1.449969e+02</td>\n",
              "      <td>0.098467</td>\n",
              "      <td>144.43162</td>\n",
              "      <td>144.938813</td>\n",
              "      <td>145.0012</td>\n",
              "      <td>1.450560e+02</td>\n",
              "      <td>1.455264e+02</td>\n",
              "    </tr>\n",
              "    <tr>\n",
              "      <th>Propertycount</th>\n",
              "      <td>19740.0</td>\n",
              "      <td>7.508448e+03</td>\n",
              "      <td>4419.294842</td>\n",
              "      <td>249.00000</td>\n",
              "      <td>4407.000000</td>\n",
              "      <td>6567.0000</td>\n",
              "      <td>1.033100e+04</td>\n",
              "      <td>2.165000e+04</td>\n",
              "    </tr>\n",
              "  </tbody>\n",
              "</table>\n",
              "</div>"
            ],
            "text/plain": [
              "                 count          mean  ...           75%           max\n",
              "Rooms          19741.0  2.947115e+00  ...  4.000000e+00  1.200000e+01\n",
              "Price          15397.0  1.054929e+06  ...  1.301000e+06  9.000000e+06\n",
              "Distance       19740.0  9.862660e+00  ...  1.260000e+01  4.740000e+01\n",
              "Postcode       19740.0  3.106525e+03  ...  3.147000e+03  3.978000e+03\n",
              "Bedroom2       15686.0  2.908262e+00  ...  3.000000e+00  3.000000e+01\n",
              "Bathroom       15686.0  1.551320e+00  ...  2.000000e+00  1.200000e+01\n",
              "Car            15686.0  1.583641e+00  ...  2.000000e+00  2.600000e+01\n",
              "Landsize       15659.0  5.381542e+02  ...  6.500000e+02  4.330140e+05\n",
              "BuildingArea    8382.0  1.488852e+02  ...  1.780000e+02  6.791000e+03\n",
              "YearBuilt       9649.0  1.963394e+03  ...  1.999000e+03  2.106000e+03\n",
              "Lattitude      15804.0 -3.781181e+01  ... -3.776110e+01 -3.741381e+01\n",
              "Longtitude     15804.0  1.449969e+02  ...  1.450560e+02  1.455264e+02\n",
              "Propertycount  19740.0  7.508448e+03  ...  1.033100e+04  2.165000e+04\n",
              "\n",
              "[13 rows x 8 columns]"
            ]
          },
          "metadata": {},
          "execution_count": 891
        }
      ]
    },
    {
      "cell_type": "code",
      "metadata": {
        "colab": {
          "base_uri": "https://localhost:8080/"
        },
        "id": "iVDx-DXDtDer",
        "outputId": "5a0c490a-f134-4ed8-d684-f664b198b211"
      },
      "source": [
        "# Convert numeric variables to categorical\n",
        "num_cats = ['Postcode']  \n",
        "\n",
        "for colname in num_cats:\n",
        "    dataset[colname] = dataset[colname].astype('category')   \n",
        "\n",
        "# Confirm changes\n",
        "dataset.info()"
      ],
      "execution_count": 892,
      "outputs": [
        {
          "output_type": "stream",
          "name": "stdout",
          "text": [
            "<class 'pandas.core.frame.DataFrame'>\n",
            "RangeIndex: 19741 entries, 0 to 19740\n",
            "Data columns (total 21 columns):\n",
            " #   Column         Non-Null Count  Dtype         \n",
            "---  ------         --------------  -----         \n",
            " 0   Suburb         19741 non-null  category      \n",
            " 1   Address        19741 non-null  category      \n",
            " 2   Rooms          19741 non-null  int64         \n",
            " 3   Type           19741 non-null  category      \n",
            " 4   Price          15397 non-null  float64       \n",
            " 5   Method         19741 non-null  category      \n",
            " 6   SellerG        19741 non-null  category      \n",
            " 7   Date           19741 non-null  datetime64[ns]\n",
            " 8   Distance       19740 non-null  float64       \n",
            " 9   Postcode       19740 non-null  category      \n",
            " 10  Bedroom2       15686 non-null  float64       \n",
            " 11  Bathroom       15686 non-null  float64       \n",
            " 12  Car            15686 non-null  float64       \n",
            " 13  Landsize       15659 non-null  float64       \n",
            " 14  BuildingArea   8382 non-null   float64       \n",
            " 15  YearBuilt      9649 non-null   float64       \n",
            " 16  CouncilArea    15656 non-null  category      \n",
            " 17  Lattitude      15804 non-null  float64       \n",
            " 18  Longtitude     15804 non-null  float64       \n",
            " 19  Regionname     19740 non-null  category      \n",
            " 20  Propertycount  19740 non-null  float64       \n",
            "dtypes: category(8), datetime64[ns](1), float64(11), int64(1)\n",
            "memory usage: 3.0 MB\n"
          ]
        }
      ]
    },
    {
      "cell_type": "code",
      "metadata": {
        "colab": {
          "base_uri": "https://localhost:8080/",
          "height": 691
        },
        "id": "1q9buYPNtDes",
        "outputId": "2f0262d5-0253-47a0-b998-1f1ab260b427"
      },
      "source": [
        "# Examine Rooms v Bedroom2\n",
        "dataset['Rooms v Bedroom2'] = dataset['Rooms'] - dataset['Bedroom2']\n",
        "dataset"
      ],
      "execution_count": 893,
      "outputs": [
        {
          "output_type": "execute_result",
          "data": {
            "text/html": [
              "<div>\n",
              "<style scoped>\n",
              "    .dataframe tbody tr th:only-of-type {\n",
              "        vertical-align: middle;\n",
              "    }\n",
              "\n",
              "    .dataframe tbody tr th {\n",
              "        vertical-align: top;\n",
              "    }\n",
              "\n",
              "    .dataframe thead th {\n",
              "        text-align: right;\n",
              "    }\n",
              "</style>\n",
              "<table border=\"1\" class=\"dataframe\">\n",
              "  <thead>\n",
              "    <tr style=\"text-align: right;\">\n",
              "      <th></th>\n",
              "      <th>Suburb</th>\n",
              "      <th>Address</th>\n",
              "      <th>Rooms</th>\n",
              "      <th>Type</th>\n",
              "      <th>Price</th>\n",
              "      <th>Method</th>\n",
              "      <th>SellerG</th>\n",
              "      <th>Date</th>\n",
              "      <th>Distance</th>\n",
              "      <th>Postcode</th>\n",
              "      <th>Bedroom2</th>\n",
              "      <th>Bathroom</th>\n",
              "      <th>Car</th>\n",
              "      <th>Landsize</th>\n",
              "      <th>BuildingArea</th>\n",
              "      <th>YearBuilt</th>\n",
              "      <th>CouncilArea</th>\n",
              "      <th>Lattitude</th>\n",
              "      <th>Longtitude</th>\n",
              "      <th>Regionname</th>\n",
              "      <th>Propertycount</th>\n",
              "      <th>Rooms v Bedroom2</th>\n",
              "    </tr>\n",
              "  </thead>\n",
              "  <tbody>\n",
              "    <tr>\n",
              "      <th>0</th>\n",
              "      <td>Abbotsford</td>\n",
              "      <td>68 Studley St</td>\n",
              "      <td>2</td>\n",
              "      <td>h</td>\n",
              "      <td>NaN</td>\n",
              "      <td>SS</td>\n",
              "      <td>Jellis</td>\n",
              "      <td>2016-03-09</td>\n",
              "      <td>2.5</td>\n",
              "      <td>3067.0</td>\n",
              "      <td>2.0</td>\n",
              "      <td>1.0</td>\n",
              "      <td>1.0</td>\n",
              "      <td>126.0</td>\n",
              "      <td>NaN</td>\n",
              "      <td>NaN</td>\n",
              "      <td>Yarra</td>\n",
              "      <td>-37.80140</td>\n",
              "      <td>144.99580</td>\n",
              "      <td>Northern Metropolitan</td>\n",
              "      <td>4019.0</td>\n",
              "      <td>0.0</td>\n",
              "    </tr>\n",
              "    <tr>\n",
              "      <th>1</th>\n",
              "      <td>Abbotsford</td>\n",
              "      <td>85 Turner St</td>\n",
              "      <td>2</td>\n",
              "      <td>h</td>\n",
              "      <td>1480000.0</td>\n",
              "      <td>S</td>\n",
              "      <td>Biggin</td>\n",
              "      <td>2016-03-12</td>\n",
              "      <td>2.5</td>\n",
              "      <td>3067.0</td>\n",
              "      <td>2.0</td>\n",
              "      <td>1.0</td>\n",
              "      <td>1.0</td>\n",
              "      <td>202.0</td>\n",
              "      <td>NaN</td>\n",
              "      <td>NaN</td>\n",
              "      <td>Yarra</td>\n",
              "      <td>-37.79960</td>\n",
              "      <td>144.99840</td>\n",
              "      <td>Northern Metropolitan</td>\n",
              "      <td>4019.0</td>\n",
              "      <td>0.0</td>\n",
              "    </tr>\n",
              "    <tr>\n",
              "      <th>2</th>\n",
              "      <td>Abbotsford</td>\n",
              "      <td>25 Bloomburg St</td>\n",
              "      <td>2</td>\n",
              "      <td>h</td>\n",
              "      <td>1035000.0</td>\n",
              "      <td>S</td>\n",
              "      <td>Biggin</td>\n",
              "      <td>2016-04-02</td>\n",
              "      <td>2.5</td>\n",
              "      <td>3067.0</td>\n",
              "      <td>2.0</td>\n",
              "      <td>1.0</td>\n",
              "      <td>0.0</td>\n",
              "      <td>156.0</td>\n",
              "      <td>79.0</td>\n",
              "      <td>1900.0</td>\n",
              "      <td>Yarra</td>\n",
              "      <td>-37.80790</td>\n",
              "      <td>144.99340</td>\n",
              "      <td>Northern Metropolitan</td>\n",
              "      <td>4019.0</td>\n",
              "      <td>0.0</td>\n",
              "    </tr>\n",
              "    <tr>\n",
              "      <th>3</th>\n",
              "      <td>Abbotsford</td>\n",
              "      <td>18/659 Victoria St</td>\n",
              "      <td>3</td>\n",
              "      <td>u</td>\n",
              "      <td>NaN</td>\n",
              "      <td>VB</td>\n",
              "      <td>Rounds</td>\n",
              "      <td>2016-04-02</td>\n",
              "      <td>2.5</td>\n",
              "      <td>3067.0</td>\n",
              "      <td>3.0</td>\n",
              "      <td>2.0</td>\n",
              "      <td>1.0</td>\n",
              "      <td>0.0</td>\n",
              "      <td>NaN</td>\n",
              "      <td>NaN</td>\n",
              "      <td>Yarra</td>\n",
              "      <td>-37.81140</td>\n",
              "      <td>145.01160</td>\n",
              "      <td>Northern Metropolitan</td>\n",
              "      <td>4019.0</td>\n",
              "      <td>0.0</td>\n",
              "    </tr>\n",
              "    <tr>\n",
              "      <th>4</th>\n",
              "      <td>Abbotsford</td>\n",
              "      <td>5 Charles St</td>\n",
              "      <td>3</td>\n",
              "      <td>h</td>\n",
              "      <td>1465000.0</td>\n",
              "      <td>SP</td>\n",
              "      <td>Biggin</td>\n",
              "      <td>2017-04-03</td>\n",
              "      <td>2.5</td>\n",
              "      <td>3067.0</td>\n",
              "      <td>3.0</td>\n",
              "      <td>2.0</td>\n",
              "      <td>0.0</td>\n",
              "      <td>134.0</td>\n",
              "      <td>150.0</td>\n",
              "      <td>1900.0</td>\n",
              "      <td>Yarra</td>\n",
              "      <td>-37.80930</td>\n",
              "      <td>144.99440</td>\n",
              "      <td>Northern Metropolitan</td>\n",
              "      <td>4019.0</td>\n",
              "      <td>0.0</td>\n",
              "    </tr>\n",
              "    <tr>\n",
              "      <th>...</th>\n",
              "      <td>...</td>\n",
              "      <td>...</td>\n",
              "      <td>...</td>\n",
              "      <td>...</td>\n",
              "      <td>...</td>\n",
              "      <td>...</td>\n",
              "      <td>...</td>\n",
              "      <td>...</td>\n",
              "      <td>...</td>\n",
              "      <td>...</td>\n",
              "      <td>...</td>\n",
              "      <td>...</td>\n",
              "      <td>...</td>\n",
              "      <td>...</td>\n",
              "      <td>...</td>\n",
              "      <td>...</td>\n",
              "      <td>...</td>\n",
              "      <td>...</td>\n",
              "      <td>...</td>\n",
              "      <td>...</td>\n",
              "      <td>...</td>\n",
              "      <td>...</td>\n",
              "    </tr>\n",
              "    <tr>\n",
              "      <th>19736</th>\n",
              "      <td>Windsor</td>\n",
              "      <td>201/152 Peel St</td>\n",
              "      <td>2</td>\n",
              "      <td>u</td>\n",
              "      <td>560000.0</td>\n",
              "      <td>PI</td>\n",
              "      <td>hockingstuart</td>\n",
              "      <td>2017-07-29</td>\n",
              "      <td>4.6</td>\n",
              "      <td>3181.0</td>\n",
              "      <td>2.0</td>\n",
              "      <td>1.0</td>\n",
              "      <td>1.0</td>\n",
              "      <td>0.0</td>\n",
              "      <td>61.6</td>\n",
              "      <td>2012.0</td>\n",
              "      <td>Stonnington</td>\n",
              "      <td>-37.85581</td>\n",
              "      <td>144.99025</td>\n",
              "      <td>Southern Metropolitan</td>\n",
              "      <td>4380.0</td>\n",
              "      <td>0.0</td>\n",
              "    </tr>\n",
              "    <tr>\n",
              "      <th>19737</th>\n",
              "      <td>Wollert</td>\n",
              "      <td>60 Saltlake Bvd</td>\n",
              "      <td>3</td>\n",
              "      <td>h</td>\n",
              "      <td>525300.0</td>\n",
              "      <td>S</td>\n",
              "      <td>Stockdale</td>\n",
              "      <td>2017-07-29</td>\n",
              "      <td>25.5</td>\n",
              "      <td>3750.0</td>\n",
              "      <td>3.0</td>\n",
              "      <td>2.0</td>\n",
              "      <td>2.0</td>\n",
              "      <td>400.0</td>\n",
              "      <td>NaN</td>\n",
              "      <td>NaN</td>\n",
              "      <td>Whittlesea</td>\n",
              "      <td>-37.61387</td>\n",
              "      <td>145.03850</td>\n",
              "      <td>Northern Metropolitan</td>\n",
              "      <td>2940.0</td>\n",
              "      <td>0.0</td>\n",
              "    </tr>\n",
              "    <tr>\n",
              "      <th>19738</th>\n",
              "      <td>Yarraville</td>\n",
              "      <td>2 Adeney St</td>\n",
              "      <td>2</td>\n",
              "      <td>h</td>\n",
              "      <td>750000.0</td>\n",
              "      <td>SP</td>\n",
              "      <td>hockingstuart</td>\n",
              "      <td>2017-07-29</td>\n",
              "      <td>6.3</td>\n",
              "      <td>3013.0</td>\n",
              "      <td>2.0</td>\n",
              "      <td>1.0</td>\n",
              "      <td>2.0</td>\n",
              "      <td>269.0</td>\n",
              "      <td>NaN</td>\n",
              "      <td>NaN</td>\n",
              "      <td>Maribyrnong</td>\n",
              "      <td>-37.81649</td>\n",
              "      <td>144.86731</td>\n",
              "      <td>Western Metropolitan</td>\n",
              "      <td>6543.0</td>\n",
              "      <td>0.0</td>\n",
              "    </tr>\n",
              "    <tr>\n",
              "      <th>19739</th>\n",
              "      <td>Yarraville</td>\n",
              "      <td>54 Pentland Pde</td>\n",
              "      <td>6</td>\n",
              "      <td>h</td>\n",
              "      <td>2450000.0</td>\n",
              "      <td>VB</td>\n",
              "      <td>Village</td>\n",
              "      <td>2017-07-29</td>\n",
              "      <td>6.3</td>\n",
              "      <td>3013.0</td>\n",
              "      <td>6.0</td>\n",
              "      <td>3.0</td>\n",
              "      <td>2.0</td>\n",
              "      <td>1087.0</td>\n",
              "      <td>388.5</td>\n",
              "      <td>1920.0</td>\n",
              "      <td>Maribyrnong</td>\n",
              "      <td>-37.81038</td>\n",
              "      <td>144.89389</td>\n",
              "      <td>Western Metropolitan</td>\n",
              "      <td>6543.0</td>\n",
              "      <td>0.0</td>\n",
              "    </tr>\n",
              "    <tr>\n",
              "      <th>19740</th>\n",
              "      <td>Yarraville</td>\n",
              "      <td>10/127 Somerville Rd</td>\n",
              "      <td>3</td>\n",
              "      <td>t</td>\n",
              "      <td>645000.0</td>\n",
              "      <td>SP</td>\n",
              "      <td>Jas</td>\n",
              "      <td>2017-07-29</td>\n",
              "      <td>6.3</td>\n",
              "      <td>3013.0</td>\n",
              "      <td>NaN</td>\n",
              "      <td>NaN</td>\n",
              "      <td>NaN</td>\n",
              "      <td>NaN</td>\n",
              "      <td>NaN</td>\n",
              "      <td>NaN</td>\n",
              "      <td>NaN</td>\n",
              "      <td>NaN</td>\n",
              "      <td>NaN</td>\n",
              "      <td>Western Metropolitan</td>\n",
              "      <td>6543.0</td>\n",
              "      <td>NaN</td>\n",
              "    </tr>\n",
              "  </tbody>\n",
              "</table>\n",
              "<p>19741 rows × 22 columns</p>\n",
              "</div>"
            ],
            "text/plain": [
              "           Suburb               Address  ...  Propertycount Rooms v Bedroom2\n",
              "0      Abbotsford         68 Studley St  ...         4019.0              0.0\n",
              "1      Abbotsford          85 Turner St  ...         4019.0              0.0\n",
              "2      Abbotsford       25 Bloomburg St  ...         4019.0              0.0\n",
              "3      Abbotsford    18/659 Victoria St  ...         4019.0              0.0\n",
              "4      Abbotsford          5 Charles St  ...         4019.0              0.0\n",
              "...           ...                   ...  ...            ...              ...\n",
              "19736     Windsor       201/152 Peel St  ...         4380.0              0.0\n",
              "19737     Wollert       60 Saltlake Bvd  ...         2940.0              0.0\n",
              "19738  Yarraville           2 Adeney St  ...         6543.0              0.0\n",
              "19739  Yarraville       54 Pentland Pde  ...         6543.0              0.0\n",
              "19740  Yarraville  10/127 Somerville Rd  ...         6543.0              NaN\n",
              "\n",
              "[19741 rows x 22 columns]"
            ]
          },
          "metadata": {},
          "execution_count": 893
        }
      ]
    },
    {
      "cell_type": "markdown",
      "metadata": {
        "id": "X8vkkh_7tDes"
      },
      "source": [
        "The differences between these variables are minimal so keeping both would only be duplicating information.  Thus, the Bedroom2 feature will be removed from the data set altogether to allow for better analysis downstream.  "
      ]
    },
    {
      "cell_type": "code",
      "metadata": {
        "id": "8cc2p6fktDes"
      },
      "source": [
        "# Drop columns\n",
        "dataset = dataset.drop(['Bedroom2','Rooms v Bedroom2'],1)"
      ],
      "execution_count": 894,
      "outputs": []
    },
    {
      "cell_type": "code",
      "metadata": {
        "id": "qOysuiFmtDet"
      },
      "source": [
        "# Add age variable\n",
        "dataset['Age'] = 2017 - dataset['YearBuilt']\n",
        "\n",
        "# Identify historic homes\n",
        "dataset['Historic'] = np.where(dataset['Age']>=50,'Historic','Contemporary')\n",
        "\n",
        "# Convert to Category\n",
        "dataset['Historic'] = dataset['Historic'].astype('category')"
      ],
      "execution_count": 895,
      "outputs": []
    },
    {
      "cell_type": "code",
      "metadata": {
        "colab": {
          "base_uri": "https://localhost:8080/"
        },
        "id": "QjOkiV5_tDet",
        "outputId": "758851b9-e1b8-492d-9005-275469f5e6fb"
      },
      "source": [
        "# Number of entries\n",
        "dataset.info()"
      ],
      "execution_count": 896,
      "outputs": [
        {
          "output_type": "stream",
          "name": "stdout",
          "text": [
            "<class 'pandas.core.frame.DataFrame'>\n",
            "RangeIndex: 19741 entries, 0 to 19740\n",
            "Data columns (total 22 columns):\n",
            " #   Column         Non-Null Count  Dtype         \n",
            "---  ------         --------------  -----         \n",
            " 0   Suburb         19741 non-null  category      \n",
            " 1   Address        19741 non-null  category      \n",
            " 2   Rooms          19741 non-null  int64         \n",
            " 3   Type           19741 non-null  category      \n",
            " 4   Price          15397 non-null  float64       \n",
            " 5   Method         19741 non-null  category      \n",
            " 6   SellerG        19741 non-null  category      \n",
            " 7   Date           19741 non-null  datetime64[ns]\n",
            " 8   Distance       19740 non-null  float64       \n",
            " 9   Postcode       19740 non-null  category      \n",
            " 10  Bathroom       15686 non-null  float64       \n",
            " 11  Car            15686 non-null  float64       \n",
            " 12  Landsize       15659 non-null  float64       \n",
            " 13  BuildingArea   8382 non-null   float64       \n",
            " 14  YearBuilt      9649 non-null   float64       \n",
            " 15  CouncilArea    15656 non-null  category      \n",
            " 16  Lattitude      15804 non-null  float64       \n",
            " 17  Longtitude     15804 non-null  float64       \n",
            " 18  Regionname     19740 non-null  category      \n",
            " 19  Propertycount  19740 non-null  float64       \n",
            " 20  Age            9649 non-null   float64       \n",
            " 21  Historic       19741 non-null  category      \n",
            "dtypes: category(9), datetime64[ns](1), float64(11), int64(1)\n",
            "memory usage: 3.0 MB\n"
          ]
        }
      ]
    },
    {
      "cell_type": "code",
      "metadata": {
        "colab": {
          "base_uri": "https://localhost:8080/",
          "height": 515
        },
        "id": "XrlOMArvtDet",
        "outputId": "74f6fc12-5458-4ff5-9bea-aaa867d09524"
      },
      "source": [
        "# Visualize missing values\n",
        "fig, ax = plt.subplots(figsize=(15,7))\n",
        "sns.set(font_scale=1.2)\n",
        "sns.heatmap(dataset.isnull(),yticklabels = False, cbar = False, cmap = 'Greys_r')\n",
        "plt.show()"
      ],
      "execution_count": 897,
      "outputs": [
        {
          "output_type": "display_data",
          "data": {
            "image/png": "[encoded data removed]",
            "text/plain": [
              "<Figure size 1080x504 with 1 Axes>"
            ]
          },
          "metadata": {
            "needs_background": "light"
          }
        }
      ]
    },
    {
      "cell_type": "code",
      "metadata": {
        "colab": {
          "base_uri": "https://localhost:8080/"
        },
        "id": "pED-j-nItDeu",
        "outputId": "b42a0459-866b-4ea7-b3f6-b41b83739f92"
      },
      "source": [
        "# Count of missing values\n",
        "dataset.isnull().sum()"
      ],
      "execution_count": 898,
      "outputs": [
        {
          "output_type": "execute_result",
          "data": {
            "text/plain": [
              "Suburb               0\n",
              "Address              0\n",
              "Rooms                0\n",
              "Type                 0\n",
              "Price             4344\n",
              "Method               0\n",
              "SellerG              0\n",
              "Date                 0\n",
              "Distance             1\n",
              "Postcode             1\n",
              "Bathroom          4055\n",
              "Car               4055\n",
              "Landsize          4082\n",
              "BuildingArea     11359\n",
              "YearBuilt        10092\n",
              "CouncilArea       4085\n",
              "Lattitude         3937\n",
              "Longtitude        3937\n",
              "Regionname           1\n",
              "Propertycount        1\n",
              "Age              10092\n",
              "Historic             0\n",
              "dtype: int64"
            ]
          },
          "metadata": {},
          "execution_count": 898
        }
      ]
    },
    {
      "cell_type": "code",
      "metadata": {
        "colab": {
          "base_uri": "https://localhost:8080/"
        },
        "id": "VvhHjF81tDeu",
        "outputId": "e54be1fe-26b8-478f-a391-3a9404083b35"
      },
      "source": [
        "# Percentage of missing values\n",
        "dataset.isnull().sum()/len(dataset)*100"
      ],
      "execution_count": 899,
      "outputs": [
        {
          "output_type": "execute_result",
          "data": {
            "text/plain": [
              "Suburb            0.000000\n",
              "Address           0.000000\n",
              "Rooms             0.000000\n",
              "Type              0.000000\n",
              "Price            22.004964\n",
              "Method            0.000000\n",
              "SellerG           0.000000\n",
              "Date              0.000000\n",
              "Distance          0.005066\n",
              "Postcode          0.005066\n",
              "Bathroom         20.541006\n",
              "Car              20.541006\n",
              "Landsize         20.677777\n",
              "BuildingArea     57.540145\n",
              "YearBuilt        51.122030\n",
              "CouncilArea      20.692974\n",
              "Lattitude        19.943265\n",
              "Longtitude       19.943265\n",
              "Regionname        0.005066\n",
              "Propertycount     0.005066\n",
              "Age              51.122030\n",
              "Historic          0.000000\n",
              "dtype: float64"
            ]
          },
          "metadata": {},
          "execution_count": 899
        }
      ]
    },
    {
      "cell_type": "markdown",
      "metadata": {
        "id": "d8sElnLntDeu"
      },
      "source": [
        "There are a significant amount of missing values in Price, Bathroom, Car, Landsize, Building Area, YearBuilt, Council Area, Lattitude, and Longitude. To allow for a more complete analysis, observations missing any data will be removed from the dataset.  "
      ]
    },
    {
      "cell_type": "code",
      "metadata": {
        "colab": {
          "base_uri": "https://localhost:8080/"
        },
        "id": "5pzaXuK1tDeu",
        "outputId": "9ee85331-e94e-41b0-9cf3-9c72b23c06d0"
      },
      "source": [
        "# View missing data\n",
        "#dataset[dataset['Bedroom2'].isnull()]\n",
        "#To remove rows missing data in a specific column \n",
        "# dataset =dataset[pd.notnull(dataset['Price'])]\n",
        "\n",
        "# To remove an entire column\n",
        "#dataset = dataset.drop('Bedroom2',axis = 1)\n",
        "\n",
        "# Remove rows missing data\n",
        "dataset = dataset.dropna()\n",
        "\n",
        "# Confirm that observations missing data were removed  \n",
        "dataset.info()"
      ],
      "execution_count": 900,
      "outputs": [
        {
          "output_type": "stream",
          "name": "stdout",
          "text": [
            "<class 'pandas.core.frame.DataFrame'>\n",
            "Int64Index: 6196 entries, 2 to 19739\n",
            "Data columns (total 22 columns):\n",
            " #   Column         Non-Null Count  Dtype         \n",
            "---  ------         --------------  -----         \n",
            " 0   Suburb         6196 non-null   category      \n",
            " 1   Address        6196 non-null   category      \n",
            " 2   Rooms          6196 non-null   int64         \n",
            " 3   Type           6196 non-null   category      \n",
            " 4   Price          6196 non-null   float64       \n",
            " 5   Method         6196 non-null   category      \n",
            " 6   SellerG        6196 non-null   category      \n",
            " 7   Date           6196 non-null   datetime64[ns]\n",
            " 8   Distance       6196 non-null   float64       \n",
            " 9   Postcode       6196 non-null   category      \n",
            " 10  Bathroom       6196 non-null   float64       \n",
            " 11  Car            6196 non-null   float64       \n",
            " 12  Landsize       6196 non-null   float64       \n",
            " 13  BuildingArea   6196 non-null   float64       \n",
            " 14  YearBuilt      6196 non-null   float64       \n",
            " 15  CouncilArea    6196 non-null   category      \n",
            " 16  Lattitude      6196 non-null   float64       \n",
            " 17  Longtitude     6196 non-null   float64       \n",
            " 18  Regionname     6196 non-null   category      \n",
            " 19  Propertycount  6196 non-null   float64       \n",
            " 20  Age            6196 non-null   float64       \n",
            " 21  Historic       6196 non-null   category      \n",
            "dtypes: category(9), datetime64[ns](1), float64(11), int64(1)\n",
            "memory usage: 1.5 MB\n"
          ]
        }
      ]
    },
    {
      "cell_type": "code",
      "metadata": {
        "colab": {
          "base_uri": "https://localhost:8080/",
          "height": 420
        },
        "id": "lASF9M7-tDev",
        "outputId": "2a1ee0c9-e4a6-4a0b-e5de-09cef87ee003"
      },
      "source": [
        "dataset.describe().transpose()"
      ],
      "execution_count": 901,
      "outputs": [
        {
          "output_type": "execute_result",
          "data": {
            "text/html": [
              "<div>\n",
              "<style scoped>\n",
              "    .dataframe tbody tr th:only-of-type {\n",
              "        vertical-align: middle;\n",
              "    }\n",
              "\n",
              "    .dataframe tbody tr th {\n",
              "        vertical-align: top;\n",
              "    }\n",
              "\n",
              "    .dataframe thead th {\n",
              "        text-align: right;\n",
              "    }\n",
              "</style>\n",
              "<table border=\"1\" class=\"dataframe\">\n",
              "  <thead>\n",
              "    <tr style=\"text-align: right;\">\n",
              "      <th></th>\n",
              "      <th>count</th>\n",
              "      <th>mean</th>\n",
              "      <th>std</th>\n",
              "      <th>min</th>\n",
              "      <th>25%</th>\n",
              "      <th>50%</th>\n",
              "      <th>75%</th>\n",
              "      <th>max</th>\n",
              "    </tr>\n",
              "  </thead>\n",
              "  <tbody>\n",
              "    <tr>\n",
              "      <th>Rooms</th>\n",
              "      <td>6196.0</td>\n",
              "      <td>2.931407e+00</td>\n",
              "      <td>0.971079</td>\n",
              "      <td>1.00000</td>\n",
              "      <td>2.000000</td>\n",
              "      <td>3.00000</td>\n",
              "      <td>4.000000e+00</td>\n",
              "      <td>8.000000e+00</td>\n",
              "    </tr>\n",
              "    <tr>\n",
              "      <th>Price</th>\n",
              "      <td>6196.0</td>\n",
              "      <td>1.068828e+06</td>\n",
              "      <td>675156.427502</td>\n",
              "      <td>131000.00000</td>\n",
              "      <td>620000.000000</td>\n",
              "      <td>880000.00000</td>\n",
              "      <td>1.325000e+06</td>\n",
              "      <td>9.000000e+06</td>\n",
              "    </tr>\n",
              "    <tr>\n",
              "      <th>Distance</th>\n",
              "      <td>6196.0</td>\n",
              "      <td>9.751097e+00</td>\n",
              "      <td>5.612065</td>\n",
              "      <td>0.00000</td>\n",
              "      <td>5.900000</td>\n",
              "      <td>9.00000</td>\n",
              "      <td>1.240000e+01</td>\n",
              "      <td>4.740000e+01</td>\n",
              "    </tr>\n",
              "    <tr>\n",
              "      <th>Bathroom</th>\n",
              "      <td>6196.0</td>\n",
              "      <td>1.576340e+00</td>\n",
              "      <td>0.711362</td>\n",
              "      <td>1.00000</td>\n",
              "      <td>1.000000</td>\n",
              "      <td>1.00000</td>\n",
              "      <td>2.000000e+00</td>\n",
              "      <td>8.000000e+00</td>\n",
              "    </tr>\n",
              "    <tr>\n",
              "      <th>Car</th>\n",
              "      <td>6196.0</td>\n",
              "      <td>1.573596e+00</td>\n",
              "      <td>0.929947</td>\n",
              "      <td>0.00000</td>\n",
              "      <td>1.000000</td>\n",
              "      <td>1.00000</td>\n",
              "      <td>2.000000e+00</td>\n",
              "      <td>1.000000e+01</td>\n",
              "    </tr>\n",
              "    <tr>\n",
              "      <th>Landsize</th>\n",
              "      <td>6196.0</td>\n",
              "      <td>4.710069e+02</td>\n",
              "      <td>897.449881</td>\n",
              "      <td>0.00000</td>\n",
              "      <td>152.000000</td>\n",
              "      <td>373.00000</td>\n",
              "      <td>6.280000e+02</td>\n",
              "      <td>3.700000e+04</td>\n",
              "    </tr>\n",
              "    <tr>\n",
              "      <th>BuildingArea</th>\n",
              "      <td>6196.0</td>\n",
              "      <td>1.415686e+02</td>\n",
              "      <td>90.834824</td>\n",
              "      <td>0.00000</td>\n",
              "      <td>91.000000</td>\n",
              "      <td>124.00000</td>\n",
              "      <td>1.700000e+02</td>\n",
              "      <td>3.112000e+03</td>\n",
              "    </tr>\n",
              "    <tr>\n",
              "      <th>YearBuilt</th>\n",
              "      <td>6196.0</td>\n",
              "      <td>1.964082e+03</td>\n",
              "      <td>38.105673</td>\n",
              "      <td>1196.00000</td>\n",
              "      <td>1940.000000</td>\n",
              "      <td>1970.00000</td>\n",
              "      <td>2.000000e+03</td>\n",
              "      <td>2.018000e+03</td>\n",
              "    </tr>\n",
              "    <tr>\n",
              "      <th>Lattitude</th>\n",
              "      <td>6196.0</td>\n",
              "      <td>-3.780790e+01</td>\n",
              "      <td>0.075850</td>\n",
              "      <td>-38.16492</td>\n",
              "      <td>-37.855438</td>\n",
              "      <td>-37.80225</td>\n",
              "      <td>-3.775820e+01</td>\n",
              "      <td>-3.745709e+01</td>\n",
              "    </tr>\n",
              "    <tr>\n",
              "      <th>Longtitude</th>\n",
              "      <td>6196.0</td>\n",
              "      <td>1.449902e+02</td>\n",
              "      <td>0.099165</td>\n",
              "      <td>144.54237</td>\n",
              "      <td>144.926198</td>\n",
              "      <td>144.99580</td>\n",
              "      <td>1.450527e+02</td>\n",
              "      <td>1.455264e+02</td>\n",
              "    </tr>\n",
              "    <tr>\n",
              "      <th>Propertycount</th>\n",
              "      <td>6196.0</td>\n",
              "      <td>7.435490e+03</td>\n",
              "      <td>4337.698917</td>\n",
              "      <td>389.00000</td>\n",
              "      <td>4383.750000</td>\n",
              "      <td>6567.00000</td>\n",
              "      <td>1.017500e+04</td>\n",
              "      <td>2.165000e+04</td>\n",
              "    </tr>\n",
              "    <tr>\n",
              "      <th>Age</th>\n",
              "      <td>6196.0</td>\n",
              "      <td>5.291801e+01</td>\n",
              "      <td>38.105673</td>\n",
              "      <td>-1.00000</td>\n",
              "      <td>17.000000</td>\n",
              "      <td>47.00000</td>\n",
              "      <td>7.700000e+01</td>\n",
              "      <td>8.210000e+02</td>\n",
              "    </tr>\n",
              "  </tbody>\n",
              "</table>\n",
              "</div>"
            ],
            "text/plain": [
              "                count          mean  ...           75%           max\n",
              "Rooms          6196.0  2.931407e+00  ...  4.000000e+00  8.000000e+00\n",
              "Price          6196.0  1.068828e+06  ...  1.325000e+06  9.000000e+06\n",
              "Distance       6196.0  9.751097e+00  ...  1.240000e+01  4.740000e+01\n",
              "Bathroom       6196.0  1.576340e+00  ...  2.000000e+00  8.000000e+00\n",
              "Car            6196.0  1.573596e+00  ...  2.000000e+00  1.000000e+01\n",
              "Landsize       6196.0  4.710069e+02  ...  6.280000e+02  3.700000e+04\n",
              "BuildingArea   6196.0  1.415686e+02  ...  1.700000e+02  3.112000e+03\n",
              "YearBuilt      6196.0  1.964082e+03  ...  2.000000e+03  2.018000e+03\n",
              "Lattitude      6196.0 -3.780790e+01  ... -3.775820e+01 -3.745709e+01\n",
              "Longtitude     6196.0  1.449902e+02  ...  1.450527e+02  1.455264e+02\n",
              "Propertycount  6196.0  7.435490e+03  ...  1.017500e+04  2.165000e+04\n",
              "Age            6196.0  5.291801e+01  ...  7.700000e+01  8.210000e+02\n",
              "\n",
              "[12 rows x 8 columns]"
            ]
          },
          "metadata": {},
          "execution_count": 901
        }
      ]
    },
    {
      "cell_type": "code",
      "metadata": {
        "colab": {
          "base_uri": "https://localhost:8080/",
          "height": 134
        },
        "id": "yrXuvEsRtDev",
        "outputId": "ebc32644-f74f-4653-f016-f78332e7e058"
      },
      "source": [
        "dataset[dataset['Age']>800]"
      ],
      "execution_count": 902,
      "outputs": [
        {
          "output_type": "execute_result",
          "data": {
            "text/html": [
              "<div>\n",
              "<style scoped>\n",
              "    .dataframe tbody tr th:only-of-type {\n",
              "        vertical-align: middle;\n",
              "    }\n",
              "\n",
              "    .dataframe tbody tr th {\n",
              "        vertical-align: top;\n",
              "    }\n",
              "\n",
              "    .dataframe thead th {\n",
              "        text-align: right;\n",
              "    }\n",
              "</style>\n",
              "<table border=\"1\" class=\"dataframe\">\n",
              "  <thead>\n",
              "    <tr style=\"text-align: right;\">\n",
              "      <th></th>\n",
              "      <th>Suburb</th>\n",
              "      <th>Address</th>\n",
              "      <th>Rooms</th>\n",
              "      <th>Type</th>\n",
              "      <th>Price</th>\n",
              "      <th>Method</th>\n",
              "      <th>SellerG</th>\n",
              "      <th>Date</th>\n",
              "      <th>Distance</th>\n",
              "      <th>Postcode</th>\n",
              "      <th>Bathroom</th>\n",
              "      <th>Car</th>\n",
              "      <th>Landsize</th>\n",
              "      <th>BuildingArea</th>\n",
              "      <th>YearBuilt</th>\n",
              "      <th>CouncilArea</th>\n",
              "      <th>Lattitude</th>\n",
              "      <th>Longtitude</th>\n",
              "      <th>Regionname</th>\n",
              "      <th>Propertycount</th>\n",
              "      <th>Age</th>\n",
              "      <th>Historic</th>\n",
              "    </tr>\n",
              "  </thead>\n",
              "  <tbody>\n",
              "    <tr>\n",
              "      <th>16424</th>\n",
              "      <td>Mount Waverley</td>\n",
              "      <td>5 Armstrong St</td>\n",
              "      <td>3</td>\n",
              "      <td>h</td>\n",
              "      <td>1200000.0</td>\n",
              "      <td>VB</td>\n",
              "      <td>McGrath</td>\n",
              "      <td>2017-06-24</td>\n",
              "      <td>14.2</td>\n",
              "      <td>3149.0</td>\n",
              "      <td>1.0</td>\n",
              "      <td>4.0</td>\n",
              "      <td>807.0</td>\n",
              "      <td>117.0</td>\n",
              "      <td>1196.0</td>\n",
              "      <td>Monash</td>\n",
              "      <td>-37.86788</td>\n",
              "      <td>145.12121</td>\n",
              "      <td>Eastern Metropolitan</td>\n",
              "      <td>13366.0</td>\n",
              "      <td>821.0</td>\n",
              "      <td>Historic</td>\n",
              "    </tr>\n",
              "  </tbody>\n",
              "</table>\n",
              "</div>"
            ],
            "text/plain": [
              "               Suburb         Address  Rooms  ... Propertycount    Age  Historic\n",
              "16424  Mount Waverley  5 Armstrong St      3  ...       13366.0  821.0  Historic\n",
              "\n",
              "[1 rows x 22 columns]"
            ]
          },
          "metadata": {},
          "execution_count": 902
        }
      ]
    },
    {
      "cell_type": "code",
      "metadata": {
        "colab": {
          "base_uri": "https://localhost:8080/",
          "height": 134
        },
        "id": "g28Ho153tDev",
        "outputId": "900924f2-17a0-430e-c8b5-a7e11ebdee27"
      },
      "source": [
        "dataset[dataset['BuildingArea']==0]"
      ],
      "execution_count": 903,
      "outputs": [
        {
          "output_type": "execute_result",
          "data": {
            "text/html": [
              "<div>\n",
              "<style scoped>\n",
              "    .dataframe tbody tr th:only-of-type {\n",
              "        vertical-align: middle;\n",
              "    }\n",
              "\n",
              "    .dataframe tbody tr th {\n",
              "        vertical-align: top;\n",
              "    }\n",
              "\n",
              "    .dataframe thead th {\n",
              "        text-align: right;\n",
              "    }\n",
              "</style>\n",
              "<table border=\"1\" class=\"dataframe\">\n",
              "  <thead>\n",
              "    <tr style=\"text-align: right;\">\n",
              "      <th></th>\n",
              "      <th>Suburb</th>\n",
              "      <th>Address</th>\n",
              "      <th>Rooms</th>\n",
              "      <th>Type</th>\n",
              "      <th>Price</th>\n",
              "      <th>Method</th>\n",
              "      <th>SellerG</th>\n",
              "      <th>Date</th>\n",
              "      <th>Distance</th>\n",
              "      <th>Postcode</th>\n",
              "      <th>Bathroom</th>\n",
              "      <th>Car</th>\n",
              "      <th>Landsize</th>\n",
              "      <th>BuildingArea</th>\n",
              "      <th>YearBuilt</th>\n",
              "      <th>CouncilArea</th>\n",
              "      <th>Lattitude</th>\n",
              "      <th>Longtitude</th>\n",
              "      <th>Regionname</th>\n",
              "      <th>Propertycount</th>\n",
              "      <th>Age</th>\n",
              "      <th>Historic</th>\n",
              "    </tr>\n",
              "  </thead>\n",
              "  <tbody>\n",
              "    <tr>\n",
              "      <th>7211</th>\n",
              "      <td>North Melbourne</td>\n",
              "      <td>19 Shands La</td>\n",
              "      <td>2</td>\n",
              "      <td>t</td>\n",
              "      <td>841000.0</td>\n",
              "      <td>S</td>\n",
              "      <td>Jellis</td>\n",
              "      <td>2017-04-03</td>\n",
              "      <td>2.3</td>\n",
              "      <td>3051.0</td>\n",
              "      <td>1.0</td>\n",
              "      <td>1.0</td>\n",
              "      <td>215.0</td>\n",
              "      <td>0.0</td>\n",
              "      <td>2000.0</td>\n",
              "      <td>Melbourne</td>\n",
              "      <td>-37.7953</td>\n",
              "      <td>144.9437</td>\n",
              "      <td>Northern Metropolitan</td>\n",
              "      <td>6821.0</td>\n",
              "      <td>17.0</td>\n",
              "      <td>Contemporary</td>\n",
              "    </tr>\n",
              "  </tbody>\n",
              "</table>\n",
              "</div>"
            ],
            "text/plain": [
              "               Suburb       Address  Rooms  ... Propertycount   Age      Historic\n",
              "7211  North Melbourne  19 Shands La      2  ...        6821.0  17.0  Contemporary\n",
              "\n",
              "[1 rows x 22 columns]"
            ]
          },
          "metadata": {},
          "execution_count": 903
        }
      ]
    },
    {
      "cell_type": "code",
      "metadata": {
        "colab": {
          "base_uri": "https://localhost:8080/",
          "height": 691
        },
        "id": "DVOl3q9FtDev",
        "outputId": "4212d9f3-35cd-4670-912a-0769d0682776"
      },
      "source": [
        "dataset[dataset['Landsize']==0]"
      ],
      "execution_count": 904,
      "outputs": [
        {
          "output_type": "execute_result",
          "data": {
            "text/html": [
              "<div>\n",
              "<style scoped>\n",
              "    .dataframe tbody tr th:only-of-type {\n",
              "        vertical-align: middle;\n",
              "    }\n",
              "\n",
              "    .dataframe tbody tr th {\n",
              "        vertical-align: top;\n",
              "    }\n",
              "\n",
              "    .dataframe thead th {\n",
              "        text-align: right;\n",
              "    }\n",
              "</style>\n",
              "<table border=\"1\" class=\"dataframe\">\n",
              "  <thead>\n",
              "    <tr style=\"text-align: right;\">\n",
              "      <th></th>\n",
              "      <th>Suburb</th>\n",
              "      <th>Address</th>\n",
              "      <th>Rooms</th>\n",
              "      <th>Type</th>\n",
              "      <th>Price</th>\n",
              "      <th>Method</th>\n",
              "      <th>SellerG</th>\n",
              "      <th>Date</th>\n",
              "      <th>Distance</th>\n",
              "      <th>Postcode</th>\n",
              "      <th>Bathroom</th>\n",
              "      <th>Car</th>\n",
              "      <th>Landsize</th>\n",
              "      <th>BuildingArea</th>\n",
              "      <th>YearBuilt</th>\n",
              "      <th>CouncilArea</th>\n",
              "      <th>Lattitude</th>\n",
              "      <th>Longtitude</th>\n",
              "      <th>Regionname</th>\n",
              "      <th>Propertycount</th>\n",
              "      <th>Age</th>\n",
              "      <th>Historic</th>\n",
              "    </tr>\n",
              "  </thead>\n",
              "  <tbody>\n",
              "    <tr>\n",
              "      <th>25</th>\n",
              "      <td>Abbotsford</td>\n",
              "      <td>123/56 Nicholson St</td>\n",
              "      <td>2</td>\n",
              "      <td>u</td>\n",
              "      <td>750000.0</td>\n",
              "      <td>S</td>\n",
              "      <td>Biggin</td>\n",
              "      <td>2016-12-11</td>\n",
              "      <td>2.5</td>\n",
              "      <td>3067.0</td>\n",
              "      <td>2.0</td>\n",
              "      <td>1.0</td>\n",
              "      <td>0.0</td>\n",
              "      <td>94.00</td>\n",
              "      <td>2009.0</td>\n",
              "      <td>Yarra</td>\n",
              "      <td>-37.80780</td>\n",
              "      <td>144.99650</td>\n",
              "      <td>Northern Metropolitan</td>\n",
              "      <td>4019.0</td>\n",
              "      <td>8.0</td>\n",
              "      <td>Contemporary</td>\n",
              "    </tr>\n",
              "    <tr>\n",
              "      <th>42</th>\n",
              "      <td>Abbotsford</td>\n",
              "      <td>6/219 Nicholson St</td>\n",
              "      <td>2</td>\n",
              "      <td>u</td>\n",
              "      <td>500000.0</td>\n",
              "      <td>S</td>\n",
              "      <td>Collins</td>\n",
              "      <td>2016-06-18</td>\n",
              "      <td>2.5</td>\n",
              "      <td>3067.0</td>\n",
              "      <td>1.0</td>\n",
              "      <td>1.0</td>\n",
              "      <td>0.0</td>\n",
              "      <td>60.00</td>\n",
              "      <td>1970.0</td>\n",
              "      <td>Yarra</td>\n",
              "      <td>-37.80150</td>\n",
              "      <td>144.99720</td>\n",
              "      <td>Northern Metropolitan</td>\n",
              "      <td>4019.0</td>\n",
              "      <td>47.0</td>\n",
              "      <td>Contemporary</td>\n",
              "    </tr>\n",
              "    <tr>\n",
              "      <th>57</th>\n",
              "      <td>Abbotsford</td>\n",
              "      <td>11/205 Gipps St</td>\n",
              "      <td>1</td>\n",
              "      <td>u</td>\n",
              "      <td>470000.0</td>\n",
              "      <td>S</td>\n",
              "      <td>Nelson</td>\n",
              "      <td>2016-07-26</td>\n",
              "      <td>2.5</td>\n",
              "      <td>3067.0</td>\n",
              "      <td>1.0</td>\n",
              "      <td>1.0</td>\n",
              "      <td>0.0</td>\n",
              "      <td>50.00</td>\n",
              "      <td>2013.0</td>\n",
              "      <td>Yarra</td>\n",
              "      <td>-37.80550</td>\n",
              "      <td>144.99610</td>\n",
              "      <td>Northern Metropolitan</td>\n",
              "      <td>4019.0</td>\n",
              "      <td>4.0</td>\n",
              "      <td>Contemporary</td>\n",
              "    </tr>\n",
              "    <tr>\n",
              "      <th>67</th>\n",
              "      <td>Airport West</td>\n",
              "      <td>50 Bedford St</td>\n",
              "      <td>3</td>\n",
              "      <td>h</td>\n",
              "      <td>730000.0</td>\n",
              "      <td>VB</td>\n",
              "      <td>Nelson</td>\n",
              "      <td>2016-03-12</td>\n",
              "      <td>13.5</td>\n",
              "      <td>3042.0</td>\n",
              "      <td>2.0</td>\n",
              "      <td>1.0</td>\n",
              "      <td>0.0</td>\n",
              "      <td>145.00</td>\n",
              "      <td>1965.0</td>\n",
              "      <td>Moonee Valley</td>\n",
              "      <td>-37.72030</td>\n",
              "      <td>144.87550</td>\n",
              "      <td>Western Metropolitan</td>\n",
              "      <td>3464.0</td>\n",
              "      <td>52.0</td>\n",
              "      <td>Historic</td>\n",
              "    </tr>\n",
              "    <tr>\n",
              "      <th>68</th>\n",
              "      <td>Airport West</td>\n",
              "      <td>50 Bedford St</td>\n",
              "      <td>3</td>\n",
              "      <td>h</td>\n",
              "      <td>770000.0</td>\n",
              "      <td>SP</td>\n",
              "      <td>Nelson</td>\n",
              "      <td>2017-04-03</td>\n",
              "      <td>13.5</td>\n",
              "      <td>3042.0</td>\n",
              "      <td>2.0</td>\n",
              "      <td>1.0</td>\n",
              "      <td>0.0</td>\n",
              "      <td>145.00</td>\n",
              "      <td>1965.0</td>\n",
              "      <td>Moonee Valley</td>\n",
              "      <td>-37.72030</td>\n",
              "      <td>144.87550</td>\n",
              "      <td>Western Metropolitan</td>\n",
              "      <td>3464.0</td>\n",
              "      <td>52.0</td>\n",
              "      <td>Historic</td>\n",
              "    </tr>\n",
              "    <tr>\n",
              "      <th>...</th>\n",
              "      <td>...</td>\n",
              "      <td>...</td>\n",
              "      <td>...</td>\n",
              "      <td>...</td>\n",
              "      <td>...</td>\n",
              "      <td>...</td>\n",
              "      <td>...</td>\n",
              "      <td>...</td>\n",
              "      <td>...</td>\n",
              "      <td>...</td>\n",
              "      <td>...</td>\n",
              "      <td>...</td>\n",
              "      <td>...</td>\n",
              "      <td>...</td>\n",
              "      <td>...</td>\n",
              "      <td>...</td>\n",
              "      <td>...</td>\n",
              "      <td>...</td>\n",
              "      <td>...</td>\n",
              "      <td>...</td>\n",
              "      <td>...</td>\n",
              "      <td>...</td>\n",
              "    </tr>\n",
              "    <tr>\n",
              "      <th>19678</th>\n",
              "      <td>South Yarra</td>\n",
              "      <td>9/17 Howitt St</td>\n",
              "      <td>2</td>\n",
              "      <td>u</td>\n",
              "      <td>570000.0</td>\n",
              "      <td>VB</td>\n",
              "      <td>Ray</td>\n",
              "      <td>2017-07-29</td>\n",
              "      <td>2.7</td>\n",
              "      <td>3141.0</td>\n",
              "      <td>1.0</td>\n",
              "      <td>1.0</td>\n",
              "      <td>0.0</td>\n",
              "      <td>64.00</td>\n",
              "      <td>1965.0</td>\n",
              "      <td>Stonnington</td>\n",
              "      <td>-37.84679</td>\n",
              "      <td>145.00206</td>\n",
              "      <td>Southern Metropolitan</td>\n",
              "      <td>14887.0</td>\n",
              "      <td>52.0</td>\n",
              "      <td>Historic</td>\n",
              "    </tr>\n",
              "    <tr>\n",
              "      <th>19685</th>\n",
              "      <td>St Kilda</td>\n",
              "      <td>45/151 Fitzroy St</td>\n",
              "      <td>2</td>\n",
              "      <td>u</td>\n",
              "      <td>600000.0</td>\n",
              "      <td>VB</td>\n",
              "      <td>hockingstuart</td>\n",
              "      <td>2017-07-29</td>\n",
              "      <td>5.0</td>\n",
              "      <td>3182.0</td>\n",
              "      <td>1.0</td>\n",
              "      <td>1.0</td>\n",
              "      <td>0.0</td>\n",
              "      <td>82.00</td>\n",
              "      <td>1930.0</td>\n",
              "      <td>Port Phillip</td>\n",
              "      <td>-37.85911</td>\n",
              "      <td>144.97900</td>\n",
              "      <td>Southern Metropolitan</td>\n",
              "      <td>13240.0</td>\n",
              "      <td>87.0</td>\n",
              "      <td>Historic</td>\n",
              "    </tr>\n",
              "    <tr>\n",
              "      <th>19710</th>\n",
              "      <td>Tullamarine</td>\n",
              "      <td>9/200 Melrose Dr</td>\n",
              "      <td>2</td>\n",
              "      <td>u</td>\n",
              "      <td>300000.0</td>\n",
              "      <td>SP</td>\n",
              "      <td>Jason</td>\n",
              "      <td>2017-07-29</td>\n",
              "      <td>12.9</td>\n",
              "      <td>3043.0</td>\n",
              "      <td>1.0</td>\n",
              "      <td>1.0</td>\n",
              "      <td>0.0</td>\n",
              "      <td>66.32</td>\n",
              "      <td>1980.0</td>\n",
              "      <td>Hume</td>\n",
              "      <td>-37.69815</td>\n",
              "      <td>144.88019</td>\n",
              "      <td>Western Metropolitan</td>\n",
              "      <td>3296.0</td>\n",
              "      <td>37.0</td>\n",
              "      <td>Contemporary</td>\n",
              "    </tr>\n",
              "    <tr>\n",
              "      <th>19734</th>\n",
              "      <td>Williamstown</td>\n",
              "      <td>2/29 Dover Rd</td>\n",
              "      <td>1</td>\n",
              "      <td>u</td>\n",
              "      <td>385000.0</td>\n",
              "      <td>SP</td>\n",
              "      <td>Williams</td>\n",
              "      <td>2017-07-29</td>\n",
              "      <td>6.8</td>\n",
              "      <td>3016.0</td>\n",
              "      <td>1.0</td>\n",
              "      <td>1.0</td>\n",
              "      <td>0.0</td>\n",
              "      <td>35.64</td>\n",
              "      <td>1967.0</td>\n",
              "      <td>Hobsons Bay</td>\n",
              "      <td>-37.85588</td>\n",
              "      <td>144.89936</td>\n",
              "      <td>Western Metropolitan</td>\n",
              "      <td>6380.0</td>\n",
              "      <td>50.0</td>\n",
              "      <td>Historic</td>\n",
              "    </tr>\n",
              "    <tr>\n",
              "      <th>19736</th>\n",
              "      <td>Windsor</td>\n",
              "      <td>201/152 Peel St</td>\n",
              "      <td>2</td>\n",
              "      <td>u</td>\n",
              "      <td>560000.0</td>\n",
              "      <td>PI</td>\n",
              "      <td>hockingstuart</td>\n",
              "      <td>2017-07-29</td>\n",
              "      <td>4.6</td>\n",
              "      <td>3181.0</td>\n",
              "      <td>1.0</td>\n",
              "      <td>1.0</td>\n",
              "      <td>0.0</td>\n",
              "      <td>61.60</td>\n",
              "      <td>2012.0</td>\n",
              "      <td>Stonnington</td>\n",
              "      <td>-37.85581</td>\n",
              "      <td>144.99025</td>\n",
              "      <td>Southern Metropolitan</td>\n",
              "      <td>4380.0</td>\n",
              "      <td>5.0</td>\n",
              "      <td>Contemporary</td>\n",
              "    </tr>\n",
              "  </tbody>\n",
              "</table>\n",
              "<p>1015 rows × 22 columns</p>\n",
              "</div>"
            ],
            "text/plain": [
              "             Suburb              Address  ...   Age      Historic\n",
              "25       Abbotsford  123/56 Nicholson St  ...   8.0  Contemporary\n",
              "42       Abbotsford   6/219 Nicholson St  ...  47.0  Contemporary\n",
              "57       Abbotsford      11/205 Gipps St  ...   4.0  Contemporary\n",
              "67     Airport West        50 Bedford St  ...  52.0      Historic\n",
              "68     Airport West        50 Bedford St  ...  52.0      Historic\n",
              "...             ...                  ...  ...   ...           ...\n",
              "19678   South Yarra       9/17 Howitt St  ...  52.0      Historic\n",
              "19685      St Kilda    45/151 Fitzroy St  ...  87.0      Historic\n",
              "19710   Tullamarine     9/200 Melrose Dr  ...  37.0  Contemporary\n",
              "19734  Williamstown        2/29 Dover Rd  ...  50.0      Historic\n",
              "19736       Windsor      201/152 Peel St  ...   5.0  Contemporary\n",
              "\n",
              "[1015 rows x 22 columns]"
            ]
          },
          "metadata": {},
          "execution_count": 904
        }
      ]
    },
    {
      "cell_type": "code",
      "metadata": {
        "colab": {
          "base_uri": "https://localhost:8080/",
          "height": 420
        },
        "id": "k8IXGIQLtDev",
        "outputId": "4dfbf75c-670d-423f-c5ab-5047e6c10d88"
      },
      "source": [
        "# Remove outlier\n",
        "dataset = dataset[dataset['BuildingArea']!=0]\n",
        "\n",
        "# Confirm removal\n",
        "dataset.describe().transpose()"
      ],
      "execution_count": 905,
      "outputs": [
        {
          "output_type": "execute_result",
          "data": {
            "text/html": [
              "<div>\n",
              "<style scoped>\n",
              "    .dataframe tbody tr th:only-of-type {\n",
              "        vertical-align: middle;\n",
              "    }\n",
              "\n",
              "    .dataframe tbody tr th {\n",
              "        vertical-align: top;\n",
              "    }\n",
              "\n",
              "    .dataframe thead th {\n",
              "        text-align: right;\n",
              "    }\n",
              "</style>\n",
              "<table border=\"1\" class=\"dataframe\">\n",
              "  <thead>\n",
              "    <tr style=\"text-align: right;\">\n",
              "      <th></th>\n",
              "      <th>count</th>\n",
              "      <th>mean</th>\n",
              "      <th>std</th>\n",
              "      <th>min</th>\n",
              "      <th>25%</th>\n",
              "      <th>50%</th>\n",
              "      <th>75%</th>\n",
              "      <th>max</th>\n",
              "    </tr>\n",
              "  </thead>\n",
              "  <tbody>\n",
              "    <tr>\n",
              "      <th>Rooms</th>\n",
              "      <td>6195.0</td>\n",
              "      <td>2.931558e+00</td>\n",
              "      <td>0.971085</td>\n",
              "      <td>1.00000</td>\n",
              "      <td>2.000000</td>\n",
              "      <td>3.0000</td>\n",
              "      <td>4.000000e+00</td>\n",
              "      <td>8.000000e+00</td>\n",
              "    </tr>\n",
              "    <tr>\n",
              "      <th>Price</th>\n",
              "      <td>6195.0</td>\n",
              "      <td>1.068865e+06</td>\n",
              "      <td>675204.719649</td>\n",
              "      <td>131000.00000</td>\n",
              "      <td>620000.000000</td>\n",
              "      <td>880000.0000</td>\n",
              "      <td>1.325000e+06</td>\n",
              "      <td>9.000000e+06</td>\n",
              "    </tr>\n",
              "    <tr>\n",
              "      <th>Distance</th>\n",
              "      <td>6195.0</td>\n",
              "      <td>9.752300e+00</td>\n",
              "      <td>5.611720</td>\n",
              "      <td>0.00000</td>\n",
              "      <td>5.900000</td>\n",
              "      <td>9.0000</td>\n",
              "      <td>1.240000e+01</td>\n",
              "      <td>4.740000e+01</td>\n",
              "    </tr>\n",
              "    <tr>\n",
              "      <th>Bathroom</th>\n",
              "      <td>6195.0</td>\n",
              "      <td>1.576433e+00</td>\n",
              "      <td>0.711382</td>\n",
              "      <td>1.00000</td>\n",
              "      <td>1.000000</td>\n",
              "      <td>1.0000</td>\n",
              "      <td>2.000000e+00</td>\n",
              "      <td>8.000000e+00</td>\n",
              "    </tr>\n",
              "    <tr>\n",
              "      <th>Car</th>\n",
              "      <td>6195.0</td>\n",
              "      <td>1.573688e+00</td>\n",
              "      <td>0.929993</td>\n",
              "      <td>0.00000</td>\n",
              "      <td>1.000000</td>\n",
              "      <td>1.0000</td>\n",
              "      <td>2.000000e+00</td>\n",
              "      <td>1.000000e+01</td>\n",
              "    </tr>\n",
              "    <tr>\n",
              "      <th>Landsize</th>\n",
              "      <td>6195.0</td>\n",
              "      <td>4.710483e+02</td>\n",
              "      <td>897.516427</td>\n",
              "      <td>0.00000</td>\n",
              "      <td>152.000000</td>\n",
              "      <td>373.0000</td>\n",
              "      <td>6.280000e+02</td>\n",
              "      <td>3.700000e+04</td>\n",
              "    </tr>\n",
              "    <tr>\n",
              "      <th>BuildingArea</th>\n",
              "      <td>6195.0</td>\n",
              "      <td>1.415915e+02</td>\n",
              "      <td>90.824342</td>\n",
              "      <td>1.00000</td>\n",
              "      <td>91.000000</td>\n",
              "      <td>124.0000</td>\n",
              "      <td>1.700000e+02</td>\n",
              "      <td>3.112000e+03</td>\n",
              "    </tr>\n",
              "    <tr>\n",
              "      <th>YearBuilt</th>\n",
              "      <td>6195.0</td>\n",
              "      <td>1.964076e+03</td>\n",
              "      <td>38.106016</td>\n",
              "      <td>1196.00000</td>\n",
              "      <td>1940.000000</td>\n",
              "      <td>1970.0000</td>\n",
              "      <td>2.000000e+03</td>\n",
              "      <td>2.018000e+03</td>\n",
              "    </tr>\n",
              "    <tr>\n",
              "      <th>Lattitude</th>\n",
              "      <td>6195.0</td>\n",
              "      <td>-3.780791e+01</td>\n",
              "      <td>0.075856</td>\n",
              "      <td>-38.16492</td>\n",
              "      <td>-37.855455</td>\n",
              "      <td>-37.8023</td>\n",
              "      <td>-3.775820e+01</td>\n",
              "      <td>-3.745709e+01</td>\n",
              "    </tr>\n",
              "    <tr>\n",
              "      <th>Longtitude</th>\n",
              "      <td>6195.0</td>\n",
              "      <td>1.449902e+02</td>\n",
              "      <td>0.099171</td>\n",
              "      <td>144.54237</td>\n",
              "      <td>144.926195</td>\n",
              "      <td>144.9958</td>\n",
              "      <td>1.450527e+02</td>\n",
              "      <td>1.455264e+02</td>\n",
              "    </tr>\n",
              "    <tr>\n",
              "      <th>Propertycount</th>\n",
              "      <td>6195.0</td>\n",
              "      <td>7.435589e+03</td>\n",
              "      <td>4338.042029</td>\n",
              "      <td>389.00000</td>\n",
              "      <td>4382.500000</td>\n",
              "      <td>6567.0000</td>\n",
              "      <td>1.017500e+04</td>\n",
              "      <td>2.165000e+04</td>\n",
              "    </tr>\n",
              "    <tr>\n",
              "      <th>Age</th>\n",
              "      <td>6195.0</td>\n",
              "      <td>5.292381e+01</td>\n",
              "      <td>38.106016</td>\n",
              "      <td>-1.00000</td>\n",
              "      <td>17.000000</td>\n",
              "      <td>47.0000</td>\n",
              "      <td>7.700000e+01</td>\n",
              "      <td>8.210000e+02</td>\n",
              "    </tr>\n",
              "  </tbody>\n",
              "</table>\n",
              "</div>"
            ],
            "text/plain": [
              "                count          mean  ...           75%           max\n",
              "Rooms          6195.0  2.931558e+00  ...  4.000000e+00  8.000000e+00\n",
              "Price          6195.0  1.068865e+06  ...  1.325000e+06  9.000000e+06\n",
              "Distance       6195.0  9.752300e+00  ...  1.240000e+01  4.740000e+01\n",
              "Bathroom       6195.0  1.576433e+00  ...  2.000000e+00  8.000000e+00\n",
              "Car            6195.0  1.573688e+00  ...  2.000000e+00  1.000000e+01\n",
              "Landsize       6195.0  4.710483e+02  ...  6.280000e+02  3.700000e+04\n",
              "BuildingArea   6195.0  1.415915e+02  ...  1.700000e+02  3.112000e+03\n",
              "YearBuilt      6195.0  1.964076e+03  ...  2.000000e+03  2.018000e+03\n",
              "Lattitude      6195.0 -3.780791e+01  ... -3.775820e+01 -3.745709e+01\n",
              "Longtitude     6195.0  1.449902e+02  ...  1.450527e+02  1.455264e+02\n",
              "Propertycount  6195.0  7.435589e+03  ...  1.017500e+04  2.165000e+04\n",
              "Age            6195.0  5.292381e+01  ...  7.700000e+01  8.210000e+02\n",
              "\n",
              "[12 rows x 8 columns]"
            ]
          },
          "metadata": {},
          "execution_count": 905
        }
      ]
    },
    {
      "cell_type": "code",
      "metadata": {
        "colab": {
          "base_uri": "https://localhost:8080/",
          "height": 526
        },
        "id": "3Gf3MorytDew",
        "outputId": "37b99cb3-f0e0-4e44-caf9-9c600f614478"
      },
      "source": [
        "plt.figure(figsize=(16,7))\n",
        "sns.distplot(dataset['Price'], kde = False,hist_kws=dict(edgecolor=\"k\"))"
      ],
      "execution_count": 906,
      "outputs": [
        {
          "output_type": "stream",
          "name": "stderr",
          "text": [
            "/usr/local/lib/python3.7/dist-packages/seaborn/distributions.py:2619: FutureWarning: `distplot` is a deprecated function and will be removed in a future version. Please adapt your code to use either `displot` (a figure-level function with similar flexibility) or `histplot` (an axes-level function for histograms).\n",
            "  warnings.warn(msg, FutureWarning)\n"
          ]
        },
        {
          "output_type": "execute_result",
          "data": {
            "text/plain": [
              "<matplotlib.axes._subplots.AxesSubplot at 0x7f5c85860a50>"
            ]
          },
          "metadata": {},
          "execution_count": 906
        },
        {
          "output_type": "display_data",
          "data": {
            "image/png": "[encoded data removed]",
            "text/plain": [
              "<Figure size 1152x504 with 1 Axes>"
            ]
          },
          "metadata": {}
        }
      ]
    },
    {
      "cell_type": "code",
      "metadata": {
        "colab": {
          "base_uri": "https://localhost:8080/"
        },
        "id": "uPCaisXPtDew",
        "outputId": "62283f78-fb35-4c82-97ac-f51abc359a8d"
      },
      "source": [
        "# Identify categorical features\n",
        "dataset.select_dtypes(['category']).columns"
      ],
      "execution_count": 907,
      "outputs": [
        {
          "output_type": "execute_result",
          "data": {
            "text/plain": [
              "Index(['Suburb', 'Address', 'Type', 'Method', 'SellerG', 'Postcode',\n",
              "       'CouncilArea', 'Regionname', 'Historic'],\n",
              "      dtype='object')"
            ]
          },
          "metadata": {},
          "execution_count": 907
        }
      ]
    },
    {
      "cell_type": "code",
      "metadata": {
        "collapsed": true,
        "id": "e4EQZ96DtDew"
      },
      "source": [
        "# Abbreviate Regionname categories\n",
        "dataset['Regionname'] = dataset['Regionname'].map({'Northern Metropolitan':'N Metro',\n",
        "                                            'Western Metropolitan':'W Metro', \n",
        "                                            'Southern Metropolitan':'S Metro', \n",
        "                                            'Eastern Metropolitan':'E Metro', \n",
        "                                            'South-Eastern Metropolitan':'SE Metro', \n",
        "                                            'Northern Victoria':'N Vic',\n",
        "                                            'Eastern Victoria':'E Vic',\n",
        "                                            'Western Victoria':'W Vic'})"
      ],
      "execution_count": 908,
      "outputs": []
    },
    {
      "cell_type": "code",
      "metadata": {
        "colab": {
          "base_uri": "https://localhost:8080/",
          "height": 904
        },
        "id": "2k6b1eU_tDew",
        "outputId": "c693e1ef-c0ab-44b4-d349-66239db700c9"
      },
      "source": [
        "# Suplots of categorical features v price\n",
        "sns.set_style('darkgrid')\n",
        "f, axes = plt.subplots(2,2, figsize = (15,15))\n",
        "\n",
        "# Plot [0,0]\n",
        "sns.boxplot(data = dataset, x = 'Type', y = 'Price', ax = axes[0,0])\n",
        "axes[0,0].set_xlabel('Type')\n",
        "axes[0,0].set_ylabel('Price')\n",
        "axes[0,0].set_title('Type v Price')\n",
        "\n",
        "# Plot [0,1]\n",
        "sns.boxplot(x = 'Method', y = 'Price', data = dataset, ax = axes[0,1])\n",
        "axes[0,1].set_xlabel('Method')\n",
        "#axes[0,1].set_ylabel('Price')\n",
        "axes[0,1].set_title('Method v Price')\n",
        "\n",
        "# Plot [1,0]\n",
        "sns.boxplot(x = 'Regionname', y = 'Price', data = dataset, ax = axes[1,0])\n",
        "axes[1,0].set_xlabel('Regionname')\n",
        "#axes[1,0].set_ylabel('Price')\n",
        "axes[1,0].set_title('Region Name v Price')\n",
        "\n",
        "# Plot [1,1]\n",
        "sns.boxplot(x = 'Historic', y = 'Price', data = dataset, ax = axes[1,1])\n",
        "axes[1,1].set_xlabel('Historic')\n",
        "axes[1,1].set_ylabel('Price')\n",
        "axes[1,1].set_title('Historic v Price')\n",
        "\n",
        "plt.show()"
      ],
      "execution_count": 909,
      "outputs": [
        {
          "output_type": "display_data",
          "data": {
            "image/png": "[encoded data removed]",
            "text/plain": [
              "<Figure size 1080x1080 with 4 Axes>"
            ]
          },
          "metadata": {}
        }
      ]
    },
    {
      "cell_type": "markdown",
      "metadata": {
        "id": "q3dPu7FntDex"
      },
      "source": [
        "### **Numeric Features**\n",
        "Next, I visualize the relationships between numeric features in the dataset and price.  "
      ]
    },
    {
      "cell_type": "code",
      "metadata": {
        "colab": {
          "base_uri": "https://localhost:8080/"
        },
        "id": "ud7dsTnjtDex",
        "outputId": "320a7794-70c8-4eb0-adcd-94277efe6b04"
      },
      "source": [
        "# Identify numeric features\n",
        "dataset.select_dtypes(['float64','int64']).columns"
      ],
      "execution_count": 910,
      "outputs": [
        {
          "output_type": "execute_result",
          "data": {
            "text/plain": [
              "Index(['Rooms', 'Price', 'Distance', 'Bathroom', 'Car', 'Landsize',\n",
              "       'BuildingArea', 'YearBuilt', 'Lattitude', 'Longtitude', 'Propertycount',\n",
              "       'Age'],\n",
              "      dtype='object')"
            ]
          },
          "metadata": {},
          "execution_count": 910
        }
      ]
    },
    {
      "cell_type": "code",
      "metadata": {
        "colab": {
          "base_uri": "https://localhost:8080/",
          "height": 1000
        },
        "id": "XXqi1YPrtDex",
        "outputId": "2de7e051-cbe9-41ef-ea24-8f9c33fd586b"
      },
      "source": [
        "# Suplots of numeric features v price\n",
        "sns.set_style('darkgrid')\n",
        "f, axes = plt.subplots(4,2, figsize = (20,30))\n",
        "\n",
        "# Plot [0,0]\n",
        "axes[0,0].scatter(x = 'Rooms', y = 'Price', data = dataset, edgecolor = 'b')\n",
        "axes[0,0].set_xlabel('Rooms')\n",
        "axes[0,0].set_ylabel('Price')\n",
        "axes[0,0].set_title('Rooms v Price')\n",
        "\n",
        "# Plot [0,1]\n",
        "axes[0,1].scatter(x = 'Distance', y = 'Price', data = dataset, edgecolor = 'b')\n",
        "axes[0,1].set_xlabel('Distance')\n",
        "# axes[0,1].set_ylabel('Price')\n",
        "axes[0,1].set_title('Distance v Price')\n",
        "\n",
        "# Plot [1,0]\n",
        "axes[1,0].scatter(x = 'Bathroom', y = 'Price', data = dataset, edgecolor = 'b')\n",
        "axes[1,0].set_xlabel('Bathroom')\n",
        "axes[1,0].set_ylabel('Price')\n",
        "axes[1,0].set_title('Bathroom v Price')\n",
        "\n",
        "# Plot [1,1]\n",
        "axes[1,1].scatter(x = 'Car', y = 'Price', data = dataset, edgecolor = 'b')\n",
        "axes[1,0].set_xlabel('Car')\n",
        "axes[1,1].set_ylabel('Price')\n",
        "axes[1,1].set_title('Car v Price')\n",
        "\n",
        "# Plot [2,0]\n",
        "axes[2,0].scatter(x = 'Landsize', y = 'Price', data = dataset, edgecolor = 'b')\n",
        "axes[2,0].set_xlabel('Landsize')\n",
        "axes[2,0].set_ylabel('Price')\n",
        "axes[2,0].set_title('Landsize v  Price')\n",
        "\n",
        "# Plot [2,1]\n",
        "axes[2,1].scatter(x = 'BuildingArea', y = 'Price', data = dataset, edgecolor = 'b')\n",
        "axes[2,1].set_xlabel('BuildingArea')\n",
        "axes[2,1].set_ylabel('BuildingArea')\n",
        "axes[2,1].set_title('BuildingArea v Price')\n",
        "\n",
        "# Plot [3,0]\n",
        "axes[3,0].scatter(x = 'Age', y = 'Price', data = dataset, edgecolor = 'b')\n",
        "axes[3,0].set_xlabel('Age')\n",
        "axes[3,0].set_ylabel('Price')\n",
        "axes[3,0].set_ylabel('Age v Price')\n",
        "\n",
        "# Plot [3,1]\n",
        "axes[3,1].scatter(x = 'Propertycount', y = 'Price', data = dataset, edgecolor = 'b')\n",
        "axes[3,1].set_xlabel('Propertycount')\n",
        "#axes[3,1].set_ylabel('Price')\n",
        "axes[3,1].set_title('Property Count v Price')\n",
        "\n",
        "plt.show()"
      ],
      "execution_count": 911,
      "outputs": [
        {
          "output_type": "display_data",
          "data": {
            "image/png": "[encoded data removed]",
            "text/plain": [
              "<Figure size 1440x2160 with 8 Axes>"
            ]
          },
          "metadata": {}
        }
      ]
    },
    {
      "cell_type": "code",
      "metadata": {
        "collapsed": true,
        "id": "egHjp3fbtDey"
      },
      "source": [
        "# Pairplot\n",
        "#sns.pairplot(dataset,vars= ['Rooms', 'Price', 'Distance', 'Bathroom', 'Car', 'Landsize','BuildingArea',  'Propertycount','Age'], palette = 'viridis')"
      ],
      "execution_count": 912,
      "outputs": []
    },
    {
      "cell_type": "code",
      "metadata": {
        "colab": {
          "base_uri": "https://localhost:8080/"
        },
        "id": "rPHCE_lVtDey",
        "outputId": "025778bc-5f9e-4b3a-fcbf-8627409de718"
      },
      "source": [
        "plt.figure(figsize=(10,6))\n",
        "sns.heatmap(dataset.corr(),cmap = 'coolwarm',linewidth = 1,annot= True, annot_kws={\"size\": 9})\n",
        "plt.title('Variable Correlation')"
      ],
      "execution_count": null,
      "outputs": [
        {
          "output_type": "execute_result",
          "data": {
            "text/plain": [
              "Text(0.5, 1.0, 'Variable Correlation')"
            ]
          },
          "metadata": {},
          "execution_count": 913
        }
      ]
    },
    {
      "cell_type": "markdown",
      "metadata": {
        "id": "MtnqHVPStDey"
      },
      "source": [
        "**Weak Positive Correlation  **  \n",
        "Age and Price  \n",
        "\n",
        "**Moderate Positive Correlation**   \n",
        "Rooms and Price    \n",
        "Bathrooms and Price    \n",
        "Building Area and Price    \n",
        "\n",
        "The Rooms, Bathroom, and BuildingArea features are also moderately correlated with one another as they are all measures of home size. "
      ]
    },
    {
      "cell_type": "markdown",
      "metadata": {
        "id": "iO9ljwJy5r90"
      },
      "source": [
        "# Model 1: Linear Regression Model"
      ]
    },
    {
      "cell_type": "code",
      "metadata": {
        "id": "FXF1EZ1A5FD1"
      },
      "source": [
        "X = dataset.drop([\"Address\",\"Price\",\"Date\", \"SellerG\",\"Suburb\",\"Type\",\"Method\",\"CouncilArea\",\"Regionname\",\"Historic\"],axis=1)\n",
        "y = dataset['Price']"
      ],
      "execution_count": null,
      "outputs": []
    },
    {
      "cell_type": "code",
      "metadata": {
        "id": "PXb82QSZ5f58"
      },
      "source": [
        "from sklearn.model_selection import train_test_split\n",
        "from sklearn.linear_model import LinearRegression\n",
        "\n",
        "X_train, X_test, y_train, y_test = train_test_split(X, y, test_size=0.3)\n",
        "\n",
        "\n",
        "linear_model = LinearRegression()"
      ],
      "execution_count": null,
      "outputs": []
    },
    {
      "cell_type": "code",
      "metadata": {
        "id": "yQsKzKoa58pz"
      },
      "source": [
        "linear_model.fit(X_train,y_train)"
      ],
      "execution_count": null,
      "outputs": []
    },
    {
      "cell_type": "code",
      "metadata": {
        "id": "lFvD4V7vB-1x"
      },
      "source": [
        "print(linear_model.intercept_)"
      ],
      "execution_count": null,
      "outputs": []
    },
    {
      "cell_type": "code",
      "metadata": {
        "id": "EWEFtjy9CDPn"
      },
      "source": [
        "X.columns"
      ],
      "execution_count": null,
      "outputs": []
    },
    {
      "cell_type": "code",
      "metadata": {
        "id": "9dpcbhPiCtIv"
      },
      "source": [
        "coeff_df = pd.DataFrame(linear_model.coef_,X.columns,columns=['Coefficient'])\n",
        "ranked_suburbs = coeff_df.sort_values(\"Coefficient\", ascending = False)\n",
        "ranked_suburbs"
      ],
      "execution_count": null,
      "outputs": []
    },
    {
      "cell_type": "code",
      "metadata": {
        "id": "xHpTJ4cjCU0Y"
      },
      "source": [
        "predictions = linear_model.predict(X_test)"
      ],
      "execution_count": null,
      "outputs": []
    },
    {
      "cell_type": "markdown",
      "metadata": {
        "id": "0_YH_03n7jYA"
      },
      "source": [
        "### Analyze the Residuals"
      ]
    },
    {
      "cell_type": "code",
      "metadata": {
        "id": "HRJp9KYC7nDA"
      },
      "source": [
        "plt.scatter(y_test, predictions)"
      ],
      "execution_count": null,
      "outputs": []
    },
    {
      "cell_type": "code",
      "metadata": {
        "id": "aL2c87XiDL_2"
      },
      "source": [
        "# plt.scatter(y_test, predictions)\n",
        "# plt.ylim([200000,1000000])\n",
        "# plt.xlim([200000,1000000])"
      ],
      "execution_count": null,
      "outputs": []
    },
    {
      "cell_type": "code",
      "metadata": {
        "id": "gjhArng8EQBe"
      },
      "source": [
        "sns.distplot((y_test-predictions),bins=50)"
      ],
      "execution_count": null,
      "outputs": []
    },
    {
      "cell_type": "markdown",
      "metadata": {
        "id": "SNocoJUzEZ7-"
      },
      "source": [
        "### Evaluation"
      ]
    },
    {
      "cell_type": "code",
      "metadata": {
        "id": "yIdAqqTrxZn6"
      },
      "source": [
        "  plt.figure(figsize=(10,5))\n",
        "  sns.distplot(y_test, hist=True, kde=False)\n",
        "  sns.distplot(predictions, hist=True, kde=False)\n",
        "  plt.legend(labels=['Actual Values of Price', 'Predicted Values of Price'])\n",
        "  plt.xlim(0,)"
      ],
      "execution_count": null,
      "outputs": []
    },
    {
      "cell_type": "markdown",
      "metadata": {
        "id": "RKgYf75C7MWI"
      },
      "source": [
        "Regression Evaluation Metrics\n",
        "Three common evaluation metrics for regresson problems:\n",
        "\n",
        "Mean Absolute Error (MAE)\n",
        "Mean Squared Error (MSE)\n",
        "Root Mean Squared Error (RMSE)\n",
        "All basic variations on the difference between what you predicted and the true values.\n",
        "Comparing these metrics:\n",
        "\n",
        "* MAE is the easiest to understand, because it's the average error.\n",
        "* MSE more popular than MAE, because MSE \"punishes\" larger errors, tends to be useful in the real world.\n",
        "* RMSE is even more popular than MSE, because RMSE is interpretable in the \"y\" units (target units) .\n",
        "\n",
        "All of these are loss functions, because we want to minimize them."
      ]
    },
    {
      "cell_type": "code",
      "metadata": {
        "id": "iYBEubRbEV3n"
      },
      "source": [
        "from sklearn import metrics"
      ],
      "execution_count": null,
      "outputs": []
    },
    {
      "cell_type": "code",
      "metadata": {
        "id": "KAlxuMpREX6O"
      },
      "source": [
        "linear_regression_score = linear_model.score(X_test,y_test)\n",
        "linear_regression_MAE = metrics.mean_absolute_error(y_test, predictions)\n",
        "linear_regression_MSE = metrics.mean_squared_error(y_test, predictions)\n",
        "linear_regression_RMSE = np.sqrt(metrics.mean_squared_error(y_test, predictions))\n",
        "\n",
        "print(\"Score:\", linear_regression_score)\n",
        "print(\"MAE:\", linear_regression_MAE )\n",
        "print('MSE:', linear_regression_MSE )\n",
        "print('RMSE:', linear_regression_RMSE )\n",
        "\n"
      ],
      "execution_count": null,
      "outputs": []
    },
    {
      "cell_type": "code",
      "metadata": {
        "id": "c5bavJihKlrE"
      },
      "source": [
        "import pickle\n",
        "file = open('/content/drive/My Drive/linear_model.pkl', 'wb')\n",
        "pickle.dump(linear_model, file)\n",
        "\n",
        "import json\n",
        "columns = {\n",
        "    'data_columns' : [col.lower() for col in X.columns]\n",
        "}\n",
        "with open(\"/content/drive/My Drive/linear_columns.json\",\"w\") as f:\n",
        "    f.write(json.dumps(columns))"
      ],
      "execution_count": null,
      "outputs": []
    },
    {
      "cell_type": "markdown",
      "metadata": {
        "id": "KnZMFlNPEt4u"
      },
      "source": [
        "# Method 2: Random Forest"
      ]
    },
    {
      "cell_type": "code",
      "metadata": {
        "id": "6YwfnqdhExV0"
      },
      "source": [
        "# Fit and run a random forest model.\n",
        "from sklearn.ensemble import RandomForestRegressor\n",
        "rf = RandomForestRegressor()\n",
        "rf.fit(FSGD_X_train_final, FSGD_y_train_final)\n",
        "rf_pred = rf.predict(FSGD_X_test_final)\n",
        "\n",
        "\n"
      ],
      "execution_count": null,
      "outputs": []
    },
    {
      "cell_type": "code",
      "metadata": {
        "id": "2ILxOs2YqzLf"
      },
      "source": [
        "plt.scatter(FSGD_y_test_final, rf_pred)"
      ],
      "execution_count": null,
      "outputs": []
    },
    {
      "cell_type": "code",
      "metadata": {
        "id": "tKXlQ7Jpq0vE"
      },
      "source": [
        "sns.distplot((FSGD_y_test_final-rf_pred),bins=50)"
      ],
      "execution_count": null,
      "outputs": []
    },
    {
      "cell_type": "markdown",
      "metadata": {
        "id": "kRP19sk1yDFf"
      },
      "source": [
        "### Evaluation"
      ]
    },
    {
      "cell_type": "code",
      "metadata": {
        "id": "7IXKsRd9yUeg"
      },
      "source": [
        "plt.figure(figsize=(10,5))\n",
        "sns.distplot(FSGD_y_test_final, hist=True, kde=False)\n",
        "sns.distplot(rf_pred, hist=True, kde=False)\n",
        "plt.legend(labels=['Actual Values of Price', 'Predicted Values of Price'])\n",
        "plt.xlim(0,)"
      ],
      "execution_count": null,
      "outputs": []
    },
    {
      "cell_type": "code",
      "metadata": {
        "id": "RYU6ASluLfs5"
      },
      "source": [
        "# Print score and errors.\n",
        "\n",
        "rf_score =  rf.score(FSGD_X_test_final, FSGD_y_test_final)\n",
        "rf_MAE =  metrics.mean_absolute_error(FSGD_y_test_final, rf_pred)\n",
        "rf_MSE = metrics.mean_squared_error(FSGD_y_test_final, rf_pred)\n",
        "rf_RMSE =  np.sqrt(metrics.mean_squared_error(FSGD_y_test_final, rf_pred))\n",
        "\n",
        "print('Score: ',rf_score)\n",
        "print('MAE: ',rf_MAE)\n",
        "print('MSE: ',rf_MSE  )\n",
        "print('RMSE: ',rf_RMSE)\n"
      ],
      "execution_count": null,
      "outputs": []
    },
    {
      "cell_type": "code",
      "metadata": {
        "id": "mDKt0wevKsa9"
      },
      "source": [
        "import pickle\n",
        "file = open('/content/drive/My Drive/random_forest_model.pkl', 'wb')\n",
        "pickle.dump(rf, file)\n",
        "\n",
        "import json\n",
        "columns = {\n",
        "    'data_columns' : [col.lower() for col in X.columns]\n",
        "}\n",
        "with open(\"/content/drive/My Drive/random_forest_columns.json\",\"w\") as f:\n",
        "    f.write(json.dumps(columns))"
      ],
      "execution_count": null,
      "outputs": []
    },
    {
      "cell_type": "markdown",
      "metadata": {
        "id": "yopT50_PEfWN"
      },
      "source": [
        "# Method 3: Gradient Boosting"
      ]
    },
    {
      "cell_type": "code",
      "metadata": {
        "id": "umKM0vS_F-qc"
      },
      "source": [
        "# Split the dataframe into a train and test set.\n",
        "\n",
        "FSGD_X = dataset.drop([\"Address\",\"Price\",\"Date\", \"SellerG\",\"Suburb\",\"Type\",\"Method\",\"CouncilArea\",\"Regionname\",\"Historic\"],axis=1)\n",
        "FSGD_Y = dataset['Price']\n",
        "\n",
        "FSGD_X_train_final, FSGD_X_test_final, FSGD_y_train_final, FSGD_y_test_final = train_test_split(FSGD_X, FSGD_Y, test_size=0.3, random_state=123)"
      ],
      "execution_count": null,
      "outputs": []
    },
    {
      "cell_type": "code",
      "metadata": {
        "id": "qRv-QOvHEjSt"
      },
      "source": [
        "# Fit and run a gradient boost model.\n",
        "from sklearn import ensemble\n",
        "clf = ensemble.GradientBoostingRegressor(n_estimators=400, max_depth=5, min_samples_split=2, learning_rate=0.1, loss='huber')\n",
        "clf.fit(FSGD_X_train_final, FSGD_y_train_final)\n",
        "clf_pred = clf.predict(FSGD_X_test_final)\n"
      ],
      "execution_count": null,
      "outputs": []
    },
    {
      "cell_type": "code",
      "metadata": {
        "id": "lb7VA49Cqtf-"
      },
      "source": [
        "plt.scatter(FSGD_y_test_final, clf_pred)"
      ],
      "execution_count": null,
      "outputs": []
    },
    {
      "cell_type": "code",
      "metadata": {
        "id": "ocZr6WdBqvrN"
      },
      "source": [
        "sns.distplot((FSGD_y_test_final-clf_pred),bins=50)"
      ],
      "execution_count": null,
      "outputs": []
    },
    {
      "cell_type": "markdown",
      "metadata": {
        "id": "hAiFd13Ox8wQ"
      },
      "source": [
        "### Evaluation "
      ]
    },
    {
      "cell_type": "code",
      "metadata": {
        "id": "jNtOm0mayI7H"
      },
      "source": [
        "  plt.figure(figsize=(10,5))\n",
        "  sns.distplot(FSGD_y_test_final, hist=True, kde=False)\n",
        "  sns.distplot(clf_pred, hist=True, kde=False)\n",
        "  plt.legend(labels=['Actual Values of Price', 'Predicted Values of Price'])\n",
        "  plt.xlim(0,)"
      ],
      "execution_count": null,
      "outputs": []
    },
    {
      "cell_type": "code",
      "metadata": {
        "id": "M7H5sf2VLcza"
      },
      "source": [
        "# Print score and errors.\n",
        "\n",
        "gradient_boost_score = clf.score(FSGD_X_test_final, FSGD_y_test_final)\n",
        "gradient_boost_MAE = metrics.mean_absolute_error(FSGD_y_test_final, clf_pred)\n",
        "gradient_boost_MSE = metrics.mean_squared_error(FSGD_y_test_final, clf_pred)\n",
        "gradient_boost_RMSE = np.sqrt(metrics.mean_squared_error(FSGD_y_test_final, clf_pred))\n",
        "\n",
        "print('Score: ',gradient_boost_score )\n",
        "print('MAE: ', gradient_boost_MAE )\n",
        "print('MSE: ',gradient_boost_MSE)\n",
        "print('RMSE: ',gradient_boost_RMSE )"
      ],
      "execution_count": null,
      "outputs": []
    },
    {
      "cell_type": "code",
      "metadata": {
        "id": "1IyV0yGbKoVl"
      },
      "source": [
        "import pickle\n",
        "file = open('/content/drive/My Drive/gradient_boost_model.pkl', 'wb')\n",
        "pickle.dump(clf, file)\n",
        "\n",
        "import json\n",
        "columns = {\n",
        "    'data_columns' : [col.lower() for col in X.columns]\n",
        "}\n",
        "with open(\"/content/drive/My Drive/gradient_boost_columns.json\",\"w\") as f:\n",
        "    f.write(json.dumps(columns))"
      ],
      "execution_count": null,
      "outputs": []
    },
    {
      "cell_type": "markdown",
      "metadata": {
        "id": "--kyTpxBCtTG"
      },
      "source": [
        "# **Conclusion**"
      ]
    },
    {
      "cell_type": "code",
      "metadata": {
        "id": "grepc9YqC3ol"
      },
      "source": [
        "print(\"Method\", \"\\t\", \"Linear Regression\", \"\\t\", \"Random Forest   \" ,\"\\t\", \"Gradient Boost\")\n",
        "print(\"Score\", \"\\t\", linear_regression_score, \"\\t\",  rf_score ,\"\\t\",gradient_boost_score)\n",
        "print(\"MAE\", \"\\t\", linear_regression_MAE, \"\\t\",rf_MAE ,\"\\t\",  gradient_boost_MAE)\n",
        "print(\"MSE\", \"\\t\", linear_regression_MSE, \"\\t\", rf_MSE ,\"\\t\", gradient_boost_MSE)\n",
        "print(\"RMSE\", \"\\t\", linear_regression_RMSE, \"\\t\", rf_RMSE,\"\\t\",gradient_boost_RMSE  )"
      ],
      "execution_count": null,
      "outputs": []
    },
    {
      "cell_type": "code",
      "metadata": {
        "id": "Zcn8u9FTGWCJ"
      },
      "source": [
        "print(\"Method             \", \"\\t\", \"Score          \", \"\\t\",\"MAE            \" ,\"\\t\", \"MSE              \", \"\\t\", \"RMSE\")\n",
        "\n",
        "print(\"Linear Regression\", \"\\t\", linear_regression_score, \"\\t\", linear_regression_MAE ,\"\\t\", linear_regression_MSE, \"\\t\", linear_regression_RMSE)\n",
        "print(\"Random Forest    \", \"\\t\", rf_score, \"\\t\", rf_MAE ,\"\\t\", rf_MSE, \"\\t\", rf_RMSE)\n",
        "print(\"Gradient Boost     \", \"\\t\", gradient_boost_score, \"\\t\", gradient_boost_MAE ,\"\\t\", gradient_boost_MSE, \"\\t\", gradient_boost_RMSE)\n",
        "\n"
      ],
      "execution_count": null,
      "outputs": []
    },
    {
      "cell_type": "markdown",
      "metadata": {
        "id": "F4X2feA1MhSo"
      },
      "source": [
        "=> Choose Gradient Boosting because of approximately 83% Score"
      ]
    }
  ]
}